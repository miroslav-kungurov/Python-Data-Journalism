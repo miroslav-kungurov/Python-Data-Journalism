{
 "cells": [
  {
   "cell_type": "markdown",
   "id": "subtle-bookmark",
   "metadata": {},
   "source": [
    "## Установка pandas"
   ]
  },
  {
   "cell_type": "markdown",
   "id": "extended-washington",
   "metadata": {},
   "source": [
    "Установим библиотеку pandas:"
   ]
  },
  {
   "cell_type": "code",
   "execution_count": null,
   "id": "conservative-anderson",
   "metadata": {},
   "outputs": [],
   "source": [
    "!pip install pandas"
   ]
  },
  {
   "cell_type": "markdown",
   "id": "emerging-pearl",
   "metadata": {},
   "source": [
    "и импортируем ее:"
   ]
  },
  {
   "cell_type": "code",
   "execution_count": 1,
   "id": "generous-program",
   "metadata": {},
   "outputs": [],
   "source": [
    "import pandas as pd"
   ]
  },
  {
   "cell_type": "markdown",
   "id": "close-cardiff",
   "metadata": {},
   "source": [
    "## 1. Объекты Series и DataFrame"
   ]
  },
  {
   "cell_type": "markdown",
   "id": "regulated-paste",
   "metadata": {},
   "source": [
    "Объект `Series` – одномерные массив, состоящий из элементов и их индексов:"
   ]
  },
  {
   "cell_type": "code",
   "execution_count": null,
   "id": "modular-confusion",
   "metadata": {
    "scrolled": true
   },
   "outputs": [],
   "source": [
    "series_example = pd.Series(['a', 48, 'd', 'hello115'])\n",
    "series_example"
   ]
  },
  {
   "cell_type": "markdown",
   "id": "anonymous-single",
   "metadata": {},
   "source": [
    "Здесь:  \n",
    "`0`, `1`, `2`, `3` – индексы.  \n",
    "`a`, `48`, `d`, `hello115` – элементы."
   ]
  },
  {
   "cell_type": "markdown",
   "id": "measured-bachelor",
   "metadata": {},
   "source": [
    "Объект `DataFrame` – многомерный массив, как таблица в Excel."
   ]
  },
  {
   "cell_type": "code",
   "execution_count": null,
   "id": "reserved-johns",
   "metadata": {},
   "outputs": [],
   "source": [
    "df = pd.DataFrame({\n",
    "     'telephone number': [123456789, 123679, 15645445, 564645546],\n",
    "     'name': ['John', 'Jim', 'Kotowski', 'Lebowski'],\n",
    "})\n",
    "\n",
    "df"
   ]
  },
  {
   "cell_type": "markdown",
   "id": "rational-drive",
   "metadata": {},
   "source": [
    "Здесь:  \n",
    "`telephone number`, `name` – названия столбцов с соответствующими значениями `123456789 ...`, `John ...`."
   ]
  },
  {
   "cell_type": "markdown",
   "id": "executed-creation",
   "metadata": {},
   "source": [
    "## 2. Импорт файлов и просмотр содержимого"
   ]
  },
  {
   "cell_type": "markdown",
   "id": "controlled-brooks",
   "metadata": {},
   "source": [
    "Импортируем датасет ([оригинал](https://www.kaggle.com/dhruvildave/google-trends-dataset)) с популярными поисковыми запросами Google с 2000 по 2020 год. При импорте csv-файла все данные сохраняются в датафрейм `df`:"
   ]
  },
  {
   "cell_type": "code",
   "execution_count": null,
   "id": "fitting-welcome",
   "metadata": {},
   "outputs": [],
   "source": [
    "df = pd.read_csv('https://raw.githubusercontent.com/tttdddnet/Python-Data-Journalism/main/part1/trends.csv')"
   ]
  },
  {
   "cell_type": "markdown",
   "id": "horizontal-solution",
   "metadata": {},
   "source": [
    "Аналогично есть команды для импорта других файлов:  \n",
    "\n",
    "`read_excel()` – импорт excel-файла.  \n",
    "`read_sql()` – импорт базы данных SQL.  \n",
    "`read_json(json_string)` – импорт json-файла.  \n",
    "`read_html(url)` – создает из HTML-таблицы список объектов DataFrame.  "
   ]
  },
  {
   "cell_type": "markdown",
   "id": "forward-violin",
   "metadata": {},
   "source": [
    "Выведем содержимое датафрейма на экран:"
   ]
  },
  {
   "cell_type": "code",
   "execution_count": null,
   "id": "current-marijuana",
   "metadata": {},
   "outputs": [],
   "source": [
    "print(df)"
   ]
  },
  {
   "cell_type": "markdown",
   "id": "decreased-sodium",
   "metadata": {},
   "source": [
    "Отображаются первые и последние пять строчек."
   ]
  },
  {
   "cell_type": "markdown",
   "id": "going-spectrum",
   "metadata": {},
   "source": [
    "Чаще всего значения в датасетах разделяются запятой (рис.). Чтобы задать другой разделитель добавим параметр `sep=\"\"`. По умолчанию разделитель между столбцами – запятая.\n",
    "В нашем случае получаем:"
   ]
  },
  {
   "cell_type": "code",
   "execution_count": null,
   "id": "aboriginal-excellence",
   "metadata": {},
   "outputs": [],
   "source": [
    "df = pd.read_csv('https://raw.githubusercontent.com/tttdddnet/Python-Data-Journalism/main/part1/trends.csv', sep=\",\")\n",
    "df"
   ]
  },
  {
   "cell_type": "markdown",
   "id": "academic-timothy",
   "metadata": {},
   "source": [
    "Посмотрим первые пять строчек датафрейма с помощью `df.head(5)`:"
   ]
  },
  {
   "cell_type": "code",
   "execution_count": null,
   "id": "living-radiation",
   "metadata": {},
   "outputs": [],
   "source": [
    "df.head(5)"
   ]
  },
  {
   "cell_type": "markdown",
   "id": "available-violation",
   "metadata": {},
   "source": [
    "последние 5 строчек:"
   ]
  },
  {
   "cell_type": "code",
   "execution_count": null,
   "id": "utility-surge",
   "metadata": {
    "scrolled": true
   },
   "outputs": [],
   "source": [
    "df.tail(5)"
   ]
  },
  {
   "cell_type": "markdown",
   "id": "unavailable-forge",
   "metadata": {},
   "source": [
    "и пять случайных строчек:"
   ]
  },
  {
   "cell_type": "code",
   "execution_count": null,
   "id": "sapphire-singles",
   "metadata": {
    "scrolled": false
   },
   "outputs": [],
   "source": [
    "df.sample(5)"
   ]
  },
  {
   "cell_type": "markdown",
   "id": "polished-documentary",
   "metadata": {},
   "source": [
    "Узнаем количество строчек и столбцов:"
   ]
  },
  {
   "cell_type": "code",
   "execution_count": null,
   "id": "tight-mistake",
   "metadata": {},
   "outputs": [],
   "source": [
    "df.shape"
   ]
  },
  {
   "cell_type": "markdown",
   "id": "aquatic-morgan",
   "metadata": {},
   "source": [
    "Здесь:  \n",
    "26955 – количество строчек.  \n",
    "5 – количество столбцов."
   ]
  },
  {
   "cell_type": "markdown",
   "id": "bulgarian-interaction",
   "metadata": {},
   "source": [
    "Выведем на экран содержимое датафрейма:"
   ]
  },
  {
   "cell_type": "code",
   "execution_count": null,
   "id": "underlying-springer",
   "metadata": {
    "scrolled": true
   },
   "outputs": [],
   "source": [
    "df.info"
   ]
  },
  {
   "cell_type": "markdown",
   "id": "extended-imaging",
   "metadata": {},
   "source": [
    "и использованной памяти:"
   ]
  },
  {
   "cell_type": "code",
   "execution_count": null,
   "id": "legendary-active",
   "metadata": {},
   "outputs": [],
   "source": [
    "df.info(memory_usage=True)"
   ]
  },
  {
   "cell_type": "markdown",
   "id": "communist-mexican",
   "metadata": {},
   "source": [
    "Иногда при импорте данных числа принимают тип `объект` и при обработке данных возникает ошибка. Поэтому проверим какие типы данных находятся в каждом столбце:"
   ]
  },
  {
   "cell_type": "code",
   "execution_count": null,
   "id": "unable-globe",
   "metadata": {},
   "outputs": [],
   "source": [
    "df.dtypes"
   ]
  },
  {
   "cell_type": "markdown",
   "id": "funky-australia",
   "metadata": {},
   "source": [
    "Здесь:  \n",
    "`object` – строчка.  \n",
    "`int64` – целое число.  \n",
    "\n",
    "Часто встречаемые типы данных:  \n",
    "`float64` – вещественное число.  \n",
    "`datetime64` – дата и время.  \n",
    "`bool` – значения `True` или `False`.  \n"
   ]
  },
  {
   "cell_type": "markdown",
   "id": "relevant-devon",
   "metadata": {},
   "source": [
    "Узнаем названия всех столбцов:"
   ]
  },
  {
   "cell_type": "code",
   "execution_count": null,
   "id": "royal-preliminary",
   "metadata": {},
   "outputs": [],
   "source": [
    "df.columns"
   ]
  },
  {
   "cell_type": "markdown",
   "id": "artistic-survivor",
   "metadata": {},
   "source": [
    "Выведем значения только столбца `query`:"
   ]
  },
  {
   "cell_type": "code",
   "execution_count": null,
   "id": "bibliographic-latest",
   "metadata": {},
   "outputs": [],
   "source": [
    "df['query']"
   ]
  },
  {
   "cell_type": "markdown",
   "id": "referenced-conservative",
   "metadata": {},
   "source": [
    "и значения нескольких столбцов:"
   ]
  },
  {
   "cell_type": "code",
   "execution_count": null,
   "id": "spectacular-dispatch",
   "metadata": {},
   "outputs": [],
   "source": [
    "df[['location', 'category']]"
   ]
  },
  {
   "cell_type": "markdown",
   "id": "hidden-tokyo",
   "metadata": {},
   "source": [
    "Через срез отобразим первые двадцать значений столбца `query`:"
   ]
  },
  {
   "cell_type": "code",
   "execution_count": null,
   "id": "intermediate-jumping",
   "metadata": {},
   "outputs": [],
   "source": [
    "df['query'][0:20]"
   ]
  },
  {
   "cell_type": "markdown",
   "id": "analyzed-phase",
   "metadata": {},
   "source": [
    "В нашем датасете индексы являются числами. Это не очень удобно для понимания, как работает `loc` и `iloc`, поэтому создадим небольшой датафрейм с элементами типа `str` в виде индексов:"
   ]
  },
  {
   "cell_type": "code",
   "execution_count": null,
   "id": "impressed-visit",
   "metadata": {},
   "outputs": [],
   "source": [
    "df = pd.DataFrame([[1, 2], [3, 4], [5, 6]],\n",
    "     index=['phone', 'telegram', 'letter'],\n",
    "     columns=['max_speed', 'cost'])\n",
    "df"
   ]
  },
  {
   "cell_type": "markdown",
   "id": "appointed-appointment",
   "metadata": {},
   "source": [
    "`loc` выдает строки и/или столбцы по нечисловому значению индекса:"
   ]
  },
  {
   "cell_type": "code",
   "execution_count": null,
   "id": "extended-luxembourg",
   "metadata": {},
   "outputs": [],
   "source": [
    "df.loc['phone']"
   ]
  },
  {
   "cell_type": "markdown",
   "id": "conservative-canberra",
   "metadata": {},
   "source": [
    "`iloc` получает строки и/или столбцы по числовому индексу:"
   ]
  },
  {
   "cell_type": "code",
   "execution_count": null,
   "id": "tight-shannon",
   "metadata": {},
   "outputs": [],
   "source": [
    "df.iloc[0]"
   ]
  },
  {
   "cell_type": "markdown",
   "id": "resistant-employee",
   "metadata": {},
   "source": [
    "Вернемся к основному датафрейму:"
   ]
  },
  {
   "cell_type": "code",
   "execution_count": null,
   "id": "pretty-korean",
   "metadata": {},
   "outputs": [],
   "source": [
    "df = pd.read_csv('https://raw.githubusercontent.com/tttdddnet/Python-Data-Journalism/main/part1/trends.csv')"
   ]
  },
  {
   "cell_type": "markdown",
   "id": "stylish-alignment",
   "metadata": {},
   "source": [
    "Выведем первые пять строчек с помощью `iloc`:"
   ]
  },
  {
   "cell_type": "code",
   "execution_count": null,
   "id": "constant-delay",
   "metadata": {},
   "outputs": [],
   "source": [
    "df.iloc[0:5]"
   ]
  },
  {
   "cell_type": "markdown",
   "id": "honey-parliament",
   "metadata": {},
   "source": [
    "Узнаем какой элемент записан в третьей строчке и пятом столбце:"
   ]
  },
  {
   "cell_type": "code",
   "execution_count": null,
   "id": "cultural-personal",
   "metadata": {},
   "outputs": [],
   "source": [
    "df.iloc[2,4]"
   ]
  },
  {
   "cell_type": "markdown",
   "id": "unavailable-batman",
   "metadata": {},
   "source": [
    "Выведем значения всех строчек с помощью метода `iterrows()`:"
   ]
  },
  {
   "cell_type": "code",
   "execution_count": null,
   "id": "printable-eating",
   "metadata": {},
   "outputs": [],
   "source": [
    "for index, row in df.iterrows():\n",
    "    print(row)"
   ]
  },
  {
   "cell_type": "markdown",
   "id": "copyrighted-seeking",
   "metadata": {},
   "source": [
    " и с помощью `iloc()`:"
   ]
  },
  {
   "cell_type": "code",
   "execution_count": null,
   "id": "magnetic-davis",
   "metadata": {},
   "outputs": [],
   "source": [
    "for i in range(len(df.index)):\n",
    "    print(df.iloc[i])"
   ]
  },
  {
   "cell_type": "markdown",
   "id": "vocational-disclosure",
   "metadata": {},
   "source": [
    "Отобразим все элементы столбца `query`:"
   ]
  },
  {
   "cell_type": "code",
   "execution_count": null,
   "id": "capable-columbus",
   "metadata": {},
   "outputs": [],
   "source": [
    "for index, row in df.iterrows():\n",
    "    print(row['query'])"
   ]
  },
  {
   "cell_type": "markdown",
   "id": "dated-engagement",
   "metadata": {},
   "source": [
    "иначе:"
   ]
  },
  {
   "cell_type": "code",
   "execution_count": null,
   "id": "objective-seller",
   "metadata": {},
   "outputs": [],
   "source": [
    "for i in range(len(df.index)):\n",
    "    print(df.iloc[i]['query'])"
   ]
  },
  {
   "cell_type": "markdown",
   "id": "synthetic-stevens",
   "metadata": {},
   "source": [
    "Выведем строчки со значением `Consumer Brands` в столбце `Сategory`"
   ]
  },
  {
   "cell_type": "code",
   "execution_count": null,
   "id": "ordered-premium",
   "metadata": {},
   "outputs": [],
   "source": [
    "df.loc[df['category'] == \"Consumer Brands\"]"
   ]
  },
  {
   "cell_type": "markdown",
   "id": "e87ad968",
   "metadata": {},
   "source": [
    "## 3. Операции над строчками и столбцами"
   ]
  },
  {
   "cell_type": "markdown",
   "id": "proud-guard",
   "metadata": {},
   "source": [
    "### 3.1. Объединение датафреймов"
   ]
  },
  {
   "cell_type": "markdown",
   "id": "scheduled-ceramic",
   "metadata": {},
   "source": [
    "Создадим два датафрейма `df1` и `df2` и добавим столбцы из второго датафрейма в первый с помощью `concat()`. При этом индексы должны совпадать, иначе мы получим `NaN`:"
   ]
  },
  {
   "cell_type": "code",
   "execution_count": null,
   "id": "orange-second",
   "metadata": {},
   "outputs": [],
   "source": [
    "df1 = pd.DataFrame([[1, 2], [3, 4], [5, 6]],\n",
    "     index=['phone', 'telegram', 'letter'],\n",
    "     columns=['max_speed', 'cost'])\n",
    "\n",
    "df2 = pd.DataFrame([[7, 8], [9, 10], [11, 12]],\n",
    "     index=['phone', 'telegram', 'letter'],\n",
    "     columns=['average speed', 'min_speed'])\n",
    "\n",
    "df1 = pd.concat([df1, df2], axis=1)\n",
    "df1"
   ]
  },
  {
   "cell_type": "markdown",
   "id": "confirmed-tennessee",
   "metadata": {},
   "source": [
    "Здесь:  \n",
    "`df1` и `df2` – первый и второй датафрейм соответственно."
   ]
  },
  {
   "cell_type": "markdown",
   "id": "unique-crawford",
   "metadata": {},
   "source": [
    "Добавим строчки датафрейма `df2` к `df1`. Названия столбцов должны совпадать, иначе получим `NaN`:"
   ]
  },
  {
   "cell_type": "code",
   "execution_count": null,
   "id": "fundamental-steps",
   "metadata": {},
   "outputs": [],
   "source": [
    "df1 = pd.DataFrame([[1, 2], [3, 4], [5, 6]],\n",
    "     index=['phone', 'telegram', 'letter'],\n",
    "     columns=['max_speed', 'cost'])\n",
    "\n",
    "df2 = pd.DataFrame([[7, 8], [9, 10], [11, 12]],\n",
    "     index=['smartphone', 'birdmail', 'email'],\n",
    "     columns=['max_speed', 'cost'])\n",
    "\n",
    "df1 = pd.concat([df1, df2], axis=0)\n",
    "df1"
   ]
  },
  {
   "cell_type": "markdown",
   "id": "ancient-hughes",
   "metadata": {},
   "source": [
    "Добавим строчки методом `append()`:"
   ]
  },
  {
   "cell_type": "code",
   "execution_count": null,
   "id": "framed-canberra",
   "metadata": {},
   "outputs": [],
   "source": [
    "df1 = pd.DataFrame([[1, 2], [3, 4], [5, 6]],\n",
    "     index=['phone', 'telegram', 'letter'],\n",
    "     columns=['max_speed', 'cost'])\n",
    "\n",
    "df2 = pd.DataFrame([[7, 8], [9, 10], [11, 12]],\n",
    "     index=['smartphone', 'birdmail', 'email'],\n",
    "     columns=['max_speed', 'cost'])\n",
    "\n",
    "df1 = df1.append(df2)\n",
    "df1"
   ]
  },
  {
   "cell_type": "markdown",
   "id": "aquatic-commercial",
   "metadata": {},
   "source": [
    "### 3.2. Добавление строчек и столбцов"
   ]
  },
  {
   "cell_type": "markdown",
   "id": "outside-algorithm",
   "metadata": {},
   "source": [
    "Для добавления строчки создадим словарь `new_row` с названиям столбцов ввиде ключей:"
   ]
  },
  {
   "cell_type": "code",
   "execution_count": null,
   "id": "diagnostic-traffic",
   "metadata": {},
   "outputs": [],
   "source": [
    "df = pd.read_csv('https://raw.githubusercontent.com/tttdddnet/Python-Data-Journalism/main/part1/trends.csv')\n",
    "new_row = {'location': 'Russia', 'year': 2021, 'category': 'Music', 'rank': 1, 'query': 'Artist Name'}\n",
    "df = df.append(new_row, ignore_index=True)\n",
    "df.tail(5)"
   ]
  },
  {
   "cell_type": "markdown",
   "id": "respiratory-smoke",
   "metadata": {},
   "source": [
    "Чтобы добавить строчку в определенную позицию используем метод `loc`:"
   ]
  },
  {
   "cell_type": "code",
   "execution_count": null,
   "id": "modern-recruitment",
   "metadata": {},
   "outputs": [],
   "source": [
    "df.loc[2] = ['Russia', 2021, 'Music', 1, 'Artist Name']\n",
    "df.head(5)"
   ]
  },
  {
   "cell_type": "markdown",
   "id": "mighty-sensitivity",
   "metadata": {},
   "source": [
    "Здесь:  \n",
    "`loc[2]` – вставляем строчку на место третьей строчки."
   ]
  },
  {
   "cell_type": "markdown",
   "id": "elegant-german",
   "metadata": {},
   "source": [
    "Следующая запись добавит новый столбец `new_column` справа и установит все строки на значение `new`:"
   ]
  },
  {
   "cell_type": "code",
   "execution_count": null,
   "id": "palestinian-theater",
   "metadata": {
    "scrolled": true
   },
   "outputs": [],
   "source": [
    "df = pd.read_csv('https://raw.githubusercontent.com/tttdddnet/Python-Data-Journalism/main/part1/trends.csv')\n",
    "df['new_column'] = 'new'\n",
    "df.tail(5)"
   ]
  },
  {
   "cell_type": "markdown",
   "id": "scenic-pricing",
   "metadata": {},
   "source": [
    "Можно использовать метод `insert()`, чтобы указать, где должен быть новый столбец. У первого столбца индекс `0`:"
   ]
  },
  {
   "cell_type": "code",
   "execution_count": null,
   "id": "mechanical-header",
   "metadata": {},
   "outputs": [],
   "source": [
    "df.insert(0, 'new_qwerty_column', 'qwerty')\n",
    "df.head(5)"
   ]
  },
  {
   "cell_type": "markdown",
   "id": "rural-sport",
   "metadata": {},
   "source": [
    "### 3.3. Удаление строчек и столбцов"
   ]
  },
  {
   "cell_type": "markdown",
   "id": "portable-fields",
   "metadata": {},
   "source": [
    "Удалим последнюю строчку под номером `26954` c помощью `drop()`:"
   ]
  },
  {
   "cell_type": "code",
   "execution_count": null,
   "id": "spread-bread",
   "metadata": {},
   "outputs": [],
   "source": [
    "df = pd.read_csv('https://raw.githubusercontent.com/tttdddnet/Python-Data-Journalism/main/part1/trends.csv')\n",
    "df.tail(7)"
   ]
  },
  {
   "cell_type": "code",
   "execution_count": null,
   "id": "protecting-chamber",
   "metadata": {
    "scrolled": true
   },
   "outputs": [],
   "source": [
    "df = df.drop(26954, 0)\n",
    "df.tail(7)"
   ]
  },
  {
   "cell_type": "markdown",
   "id": "precious-syntax",
   "metadata": {},
   "source": [
    "Здесь:  \n",
    "`year` – название столбца  \n",
    "`0` – в датафрейме строчка имеет `ось = 0`, столбец – `1`.  \n",
    "\n",
    "Удалим столбец `year`:"
   ]
  },
  {
   "cell_type": "code",
   "execution_count": null,
   "id": "divided-sampling",
   "metadata": {},
   "outputs": [],
   "source": [
    "df = df.drop('year', 1)\n",
    "df.tail(5)"
   ]
  },
  {
   "cell_type": "markdown",
   "id": "accepted-struggle",
   "metadata": {},
   "source": [
    "### 3.4. Переименование столбцов"
   ]
  },
  {
   "cell_type": "markdown",
   "id": "perfect-ranch",
   "metadata": {},
   "source": [
    "Чтобы переименовать столбец используем `rename()`:"
   ]
  },
  {
   "cell_type": "code",
   "execution_count": null,
   "id": "current-jones",
   "metadata": {},
   "outputs": [],
   "source": [
    "df = pd.read_csv('https://raw.githubusercontent.com/tttdddnet/Python-Data-Journalism/main/part1/trends.csv')\n",
    "df.tail(3)"
   ]
  },
  {
   "cell_type": "code",
   "execution_count": null,
   "id": "enormous-south",
   "metadata": {},
   "outputs": [],
   "source": [
    "df = df.rename(columns={'location': 'new_location'})\n",
    "df.tail(3)"
   ]
  },
  {
   "cell_type": "markdown",
   "id": "exciting-spelling",
   "metadata": {},
   "source": [
    "Здесь:  \n",
    "`location` – текущее название столбца.  \n",
    "`new_location` – новое название столбца."
   ]
  },
  {
   "cell_type": "markdown",
   "id": "antique-operations",
   "metadata": {},
   "source": [
    "### 3.5. Замена символов в строке"
   ]
  },
  {
   "cell_type": "markdown",
   "id": "controlled-channels",
   "metadata": {},
   "source": [
    "С помощью `replace()` заменим в столбце `year` значения c 2020 на 2021:"
   ]
  },
  {
   "cell_type": "code",
   "execution_count": null,
   "id": "varying-acquisition",
   "metadata": {},
   "outputs": [],
   "source": [
    "df = pd.read_csv('https://raw.githubusercontent.com/tttdddnet/Python-Data-Journalism/main/part1/trends.csv')\n",
    "df.tail(10)"
   ]
  },
  {
   "cell_type": "code",
   "execution_count": null,
   "id": "loaded-indonesian",
   "metadata": {},
   "outputs": [],
   "source": [
    "df['year'] = df['year'].replace(to_replace=2020, value=2021)\n",
    "\n",
    "# сокращенная запись без to_replace и value: \n",
    "# df['year'] = df['year'].replace(2020, 2021)\n",
    "\n",
    "df['category'] = df['category'].replace(to_replace='Là Gì?', value='Hello, World.')\n",
    "df.tail(10)"
   ]
  },
  {
   "cell_type": "markdown",
   "id": "clean-applicant",
   "metadata": {},
   "source": [
    "Здесь:  \n",
    "`replace()` – заменяет значения.\n",
    "\n",
    "`to_replace=2020` – значение, подлежащее замене.  \n",
    "`value=2021` – то, на что меняем.  "
   ]
  },
  {
   "cell_type": "markdown",
   "id": "desirable-customer",
   "metadata": {},
   "source": [
    "Метод `replace()` выполнит замену в результате полного совпадения значения, то есть знак вопроса `?` просто так не удалить – нужно писать регулярное выражение (regex).\n",
    "Быстрее воспользоваться методом `str.replace()`, который выполняет замену подстроки без regex. Заменим знак вопроса обоими методами."
   ]
  },
  {
   "cell_type": "markdown",
   "id": "affected-pricing",
   "metadata": {},
   "source": [
    "Замена с помощью метода `replace()` и регулярных выражений:"
   ]
  },
  {
   "cell_type": "code",
   "execution_count": null,
   "id": "funky-parallel",
   "metadata": {
    "scrolled": false
   },
   "outputs": [],
   "source": [
    "df = pd.read_csv('https://raw.githubusercontent.com/tttdddnet/Python-Data-Journalism/main/part1/trends.csv')\n",
    "df['category'] = df['category'].replace(r'[?]', '', regex=True)\n",
    "df.tail(5)"
   ]
  },
  {
   "cell_type": "markdown",
   "id": "pregnant-essex",
   "metadata": {},
   "source": [
    "Здесь:  \n",
    "`r''` – обозначение регулярного выражения.   \n",
    "`[]` – поиск только символа в скобках.  \n",
    "`?` – поиск знака вопроса.  "
   ]
  },
  {
   "cell_type": "markdown",
   "id": "tender-labor",
   "metadata": {},
   "source": [
    "Замена, используя метод `str.replace()`:"
   ]
  },
  {
   "cell_type": "code",
   "execution_count": null,
   "id": "martial-damages",
   "metadata": {},
   "outputs": [],
   "source": [
    "df = pd.read_csv('https://raw.githubusercontent.com/tttdddnet/Python-Data-Journalism/main/part1/trends.csv')\n",
    "df['category'] = df['category'].str.replace('?', '', regex=False)\n",
    "df.tail(5)"
   ]
  },
  {
   "cell_type": "markdown",
   "id": "caroline-hollywood",
   "metadata": {},
   "source": [
    "Здесь:  \n",
    "`regex=False` – знак вопроса `?` используется в регулярных выражениях, поэтому их нужно отключить, присвоив параметру regex значение `False`. По умолчанию `True`."
   ]
  },
  {
   "cell_type": "markdown",
   "id": "careful-moore",
   "metadata": {},
   "source": [
    "Также можно заменить значения, используя метод `mask()`:"
   ]
  },
  {
   "cell_type": "code",
   "execution_count": null,
   "id": "streaming-movie",
   "metadata": {
    "scrolled": false
   },
   "outputs": [],
   "source": [
    "df['year'] = df['year'].mask(df['year'] == 2001, 2051)\n",
    "df.head(3)"
   ]
  },
  {
   "cell_type": "markdown",
   "id": "quality-elite",
   "metadata": {},
   "source": [
    "### 3.6. Суммирование элементов"
   ]
  },
  {
   "cell_type": "markdown",
   "id": "green-iceland",
   "metadata": {},
   "source": [
    "Просуммируем элементы в столбце `year` с помощью `sum()`:"
   ]
  },
  {
   "cell_type": "code",
   "execution_count": null,
   "id": "several-destiny",
   "metadata": {},
   "outputs": [],
   "source": [
    "df = pd.read_csv('https://raw.githubusercontent.com/tttdddnet/Python-Data-Journalism/main/part1/trends.csv')\n",
    "df['year'].sum()"
   ]
  },
  {
   "cell_type": "markdown",
   "id": "median-journey",
   "metadata": {},
   "source": [
    "### 3.7. Копирование датафрейма"
   ]
  },
  {
   "cell_type": "markdown",
   "id": "sweet-festival",
   "metadata": {},
   "source": [
    "Создадим глубокую копию (изменение в оригинале не влияют на копию и наоборот) датафрейма с помощью `copy()`:"
   ]
  },
  {
   "cell_type": "code",
   "execution_count": null,
   "id": "ancient-defensive",
   "metadata": {},
   "outputs": [],
   "source": [
    "df = pd.read_csv('https://raw.githubusercontent.com/tttdddnet/Python-Data-Journalism/main/part1/trends.csv')\n",
    "df2 = df.copy"
   ]
  },
  {
   "cell_type": "markdown",
   "id": "official-opinion",
   "metadata": {},
   "source": [
    "Здесь:  \n",
    "`df.copy` – создает независимую копию датафрейма. Если нужна зависимая копия, то параметру `deep` присвоим значение `False`: `df.copy(deep=False)`. По умолчанию `True`."
   ]
  },
  {
   "cell_type": "markdown",
   "id": "portuguese-ranch",
   "metadata": {},
   "source": [
    "## 4. Сортировка"
   ]
  },
  {
   "cell_type": "markdown",
   "id": "nonprofit-prototype",
   "metadata": {},
   "source": [
    "Сейчас массив отсортирован по году, давайте отсортируем его по стране (`location`) в прямом алфавитном порядке с помощью `sort_values()`:"
   ]
  },
  {
   "cell_type": "code",
   "execution_count": null,
   "id": "outer-jersey",
   "metadata": {},
   "outputs": [],
   "source": [
    "df = pd.read_csv('https://raw.githubusercontent.com/tttdddnet/Python-Data-Journalism/main/part1/trends.csv')\n",
    "df.sort_values('location')"
   ]
  },
  {
   "cell_type": "markdown",
   "id": "human-status",
   "metadata": {},
   "source": [
    "и в обратном алфавитном порядке:"
   ]
  },
  {
   "cell_type": "code",
   "execution_count": null,
   "id": "light-genome",
   "metadata": {
    "scrolled": true
   },
   "outputs": [],
   "source": [
    "df.sort_values('location', ascending=False)"
   ]
  },
  {
   "cell_type": "markdown",
   "id": "failing-suicide",
   "metadata": {},
   "source": [
    "Здесь:  \n",
    "`ascending=False` – сортировка в обратном алфавитном порядке. По умолчанию `True`."
   ]
  },
  {
   "cell_type": "markdown",
   "id": "purple-fishing",
   "metadata": {},
   "source": [
    "Отсортируем по двум столбцам: `rank` и `category`:"
   ]
  },
  {
   "cell_type": "code",
   "execution_count": null,
   "id": "second-evolution",
   "metadata": {
    "scrolled": true
   },
   "outputs": [],
   "source": [
    "df.sort_values(['rank', 'category'])"
   ]
  },
  {
   "cell_type": "markdown",
   "id": "revolutionary-british",
   "metadata": {},
   "source": [
    "В этом случаем приоритет отдается столбцу `rank`, так как он записан первым."
   ]
  },
  {
   "cell_type": "code",
   "execution_count": null,
   "id": "pointed-guard",
   "metadata": {},
   "outputs": [],
   "source": [
    "df.sort_values(['rank', 'category'], ascending=[False, False])"
   ]
  },
  {
   "cell_type": "markdown",
   "id": "focal-personal",
   "metadata": {},
   "source": [
    "Здесь:  \n",
    "`ascending=[False, False]` – сортировка в обратном порядке по обоим столбцам."
   ]
  },
  {
   "cell_type": "markdown",
   "id": "floral-america",
   "metadata": {},
   "source": [
    "## 5. Очистка данных"
   ]
  },
  {
   "cell_type": "markdown",
   "id": "acting-uganda",
   "metadata": {},
   "source": [
    "### 5.1. Изменение типа данных"
   ]
  },
  {
   "cell_type": "markdown",
   "id": "standing-greece",
   "metadata": {},
   "source": [
    "Чтобы изменить тип данных воспользуемся методом `astype()`:"
   ]
  },
  {
   "cell_type": "code",
   "execution_count": null,
   "id": "tight-intensity",
   "metadata": {},
   "outputs": [],
   "source": [
    "df = pd.read_csv('https://raw.githubusercontent.com/tttdddnet/Python-Data-Journalism/main/part1/trends.csv')\n",
    "df.year.dtype"
   ]
  },
  {
   "cell_type": "code",
   "execution_count": null,
   "id": "announced-message",
   "metadata": {},
   "outputs": [],
   "source": [
    "df['year'] = df['year'].astype(str)\n",
    "df.year.dtype"
   ]
  },
  {
   "cell_type": "code",
   "execution_count": null,
   "id": "decreased-bargain",
   "metadata": {},
   "outputs": [],
   "source": [
    "df['year'] = df['year'].astype(float)\n",
    "df.year.dtype"
   ]
  },
  {
   "cell_type": "code",
   "execution_count": null,
   "id": "after-native",
   "metadata": {},
   "outputs": [],
   "source": [
    "df['year'] = df['year'].astype('int32')\n",
    "df.year.dtype"
   ]
  },
  {
   "cell_type": "code",
   "execution_count": null,
   "id": "ultimate-crash",
   "metadata": {
    "scrolled": true
   },
   "outputs": [],
   "source": [
    "df['year'] = df['year'].astype('int64')\n",
    "df.year.dtype"
   ]
  },
  {
   "cell_type": "code",
   "execution_count": null,
   "id": "massive-thesis",
   "metadata": {},
   "outputs": [],
   "source": [
    "df['year'] = pd.to_numeric(df['year'])\n",
    "df.year.dtype"
   ]
  },
  {
   "cell_type": "markdown",
   "id": "exceptional-narrow",
   "metadata": {},
   "source": [
    "Здесь:  \n",
    "`astype()` – меняет тип переменной на строчный `O`; на число с плавающей точкой `float`; на целые числа `int32` и `int64`.  \n",
    "  \n",
    "`to_numeric()` – меняет типа переменной на `int64`."
   ]
  },
  {
   "cell_type": "markdown",
   "id": "understood-header",
   "metadata": {},
   "source": [
    "### 5.2. Удаление и замена NaN-значений"
   ]
  },
  {
   "cell_type": "markdown",
   "id": "integral-dealer",
   "metadata": {},
   "source": [
    "Добавим в начало датафрейма строчку с отсутствующими значениями `NaN`:"
   ]
  },
  {
   "cell_type": "code",
   "execution_count": null,
   "id": "random-precipitation",
   "metadata": {},
   "outputs": [],
   "source": [
    "import numpy as np\n",
    "\n",
    "df = pd.read_csv('https://raw.githubusercontent.com/tttdddnet/Python-Data-Journalism/main/part1/trends.csv')\n",
    "\n",
    "df.loc[0] = ['Russia', np.nan, 'Music', np.nan, 'Artist Name']\n",
    "df = df.append(new_row, ignore_index=True)\n",
    "df.head(5)"
   ]
  },
  {
   "cell_type": "markdown",
   "id": "imposed-intellectual",
   "metadata": {},
   "source": [
    "Узнаем, какие элементы имеют значение `NaN` с помощью метода `isnull()`:"
   ]
  },
  {
   "cell_type": "code",
   "execution_count": null,
   "id": "optical-millennium",
   "metadata": {},
   "outputs": [],
   "source": [
    "df.isnull().head(3)"
   ]
  },
  {
   "cell_type": "markdown",
   "id": "canadian-hollow",
   "metadata": {},
   "source": [
    "и наоборот методом `notnull()`:"
   ]
  },
  {
   "cell_type": "code",
   "execution_count": null,
   "id": "employed-rating",
   "metadata": {
    "scrolled": false
   },
   "outputs": [],
   "source": [
    "df.notnull().head(3)"
   ]
  },
  {
   "cell_type": "markdown",
   "id": "suspended-accident",
   "metadata": {},
   "source": [
    "Удалим строчки с отсутствующими значениями, используя `dropna()`:"
   ]
  },
  {
   "cell_type": "code",
   "execution_count": null,
   "id": "effective-glucose",
   "metadata": {},
   "outputs": [],
   "source": [
    "df.dropna().head(3)"
   ]
  },
  {
   "cell_type": "markdown",
   "id": "surrounded-companion",
   "metadata": {},
   "source": [
    "Удалим столбцы с отсутствующими значениями:"
   ]
  },
  {
   "cell_type": "code",
   "execution_count": null,
   "id": "hired-sixth",
   "metadata": {},
   "outputs": [],
   "source": [
    "df = df.append(new_row, ignore_index=True)\n",
    "df.dropna(axis=1).head(3)"
   ]
  },
  {
   "cell_type": "markdown",
   "id": "trying-bridal",
   "metadata": {},
   "source": [
    "Заменим `NaN` на `abcd` методом `fillna()`:"
   ]
  },
  {
   "cell_type": "code",
   "execution_count": null,
   "id": "ranging-mechanism",
   "metadata": {},
   "outputs": [],
   "source": [
    "df = df.append(new_row, ignore_index=True)\n",
    "df.fillna('abcd').head(5)"
   ]
  },
  {
   "cell_type": "markdown",
   "id": "alternative-breathing",
   "metadata": {},
   "source": [
    "### 5.3. Удаление лишних пробелов"
   ]
  },
  {
   "cell_type": "markdown",
   "id": "ordered-roller",
   "metadata": {},
   "source": [
    "Добавим строчку, в которой есть дефектные элементы с лишними пробелами в конце и в начале:"
   ]
  },
  {
   "cell_type": "code",
   "execution_count": null,
   "id": "comfortable-interview",
   "metadata": {
    "scrolled": true
   },
   "outputs": [],
   "source": [
    "df = pd.read_csv('https://raw.githubusercontent.com/tttdddnet/Python-Data-Journalism/main/part1/trends.csv')\n",
    "new_row = {'location': '  Russia     ', 'year': 2021, 'category': 'Music', 'rank': 1, 'query': ' Artist Name  '}\n",
    "\n",
    "df = df.append(new_row, ignore_index=True)\n",
    "print(df.tail(2))"
   ]
  },
  {
   "cell_type": "markdown",
   "id": "quiet-bacon",
   "metadata": {},
   "source": [
    "Применим метод `strip()`, который удаляет символы (по умолчанию – пробел) с левого и правого края строки."
   ]
  },
  {
   "cell_type": "code",
   "execution_count": null,
   "id": "bigger-suspension",
   "metadata": {},
   "outputs": [],
   "source": [
    "df['location'] = df['location'].map(str.strip)\n",
    "df['query'] = df['query'].map(str.strip)\n",
    "print(df.tail(2))"
   ]
  },
  {
   "cell_type": "markdown",
   "id": "suburban-straight",
   "metadata": {},
   "source": [
    "Здесь:  \n",
    "`map()` – применяет к каждому элементу столбцов `location` и `query` метод `strip()`."
   ]
  },
  {
   "cell_type": "markdown",
   "id": "statistical-relay",
   "metadata": {},
   "source": [
    "Напишем цикл, который проходится по всем элементам датафрейма и удаляет у строчек лишние пробелы слева и справа:"
   ]
  },
  {
   "cell_type": "code",
   "execution_count": null,
   "id": "coral-devon",
   "metadata": {},
   "outputs": [],
   "source": [
    "df = pd.read_csv('https://raw.githubusercontent.com/tttdddnet/Python-Data-Journalism/main/part1/trends.csv')\n",
    "new_row1 = {'location': '  Russia     ', 'year': 2021, 'category': 'Music', 'rank': 1, 'query': ' Artist Name  '}\n",
    "new_row2 = {'location': ' Russia       ', 'year': 2021, 'category': 'Music  ', 'rank': 1, 'query': ' Artist Name '}\n",
    "\n",
    "df = df.append(new_row1, ignore_index=True)\n",
    "df = df.append(new_row2, ignore_index=True)\n",
    "print(df.tail(3))"
   ]
  },
  {
   "cell_type": "code",
   "execution_count": null,
   "id": "greenhouse-recruitment",
   "metadata": {},
   "outputs": [],
   "source": [
    "for column in df.columns:\n",
    "    if df[column].dtype == object:\n",
    "        df[column] = df[column].map(str.strip)\n",
    "\n",
    "print(df.tail(3))"
   ]
  },
  {
   "cell_type": "markdown",
   "id": "referenced-embassy",
   "metadata": {},
   "source": [
    "Здесь:  \n",
    "`new_row1` и `new_row2` – добавляемые строчки.\n",
    "`if df[column].dtype == object` – проверяем, является ли переменная объектом."
   ]
  },
  {
   "cell_type": "markdown",
   "id": "secondary-vietnamese",
   "metadata": {},
   "source": [
    "Проверить тип можно также через модуль `is_string_dtype`:"
   ]
  },
  {
   "cell_type": "code",
   "execution_count": null,
   "id": "working-carpet",
   "metadata": {
    "scrolled": true
   },
   "outputs": [],
   "source": [
    "df = pd.read_csv('https://raw.githubusercontent.com/tttdddnet/Python-Data-Journalism/main/part1/trends.csv')\n",
    "new_row1 = {'location': '  Russia     ', 'year': 2021, 'category': 'Music', 'rank': 1, 'query': ' Artist Name  '}\n",
    "new_row2 = {'location': ' Russia       ', 'year': 2021, 'category': 'Music  ', 'rank': 1, 'query': ' Artist Name '}\n",
    "\n",
    "df = df.append(new_row1, ignore_index=True)\n",
    "df = df.append(new_row2, ignore_index=True)\n",
    "print(df.tail(3))"
   ]
  },
  {
   "cell_type": "code",
   "execution_count": null,
   "id": "overall-basics",
   "metadata": {},
   "outputs": [],
   "source": [
    "from pandas.api.types import is_string_dtype\n",
    "\n",
    "for column in df.columns:\n",
    "    if is_string_dtype(df[column].dtype):\n",
    "        df[column] = df[column].map(str.strip)\n",
    "\n",
    "print(df.tail(3))"
   ]
  },
  {
   "cell_type": "markdown",
   "id": "following-helena",
   "metadata": {},
   "source": [
    "Здесь:  \n",
    "`is_string_dtype()` – проверяет, является ли элемент строкой и возвращает `True` или `False`.  \n",
    "Проверить на наличие числа можно через `is_numeric_dtype()`."
   ]
  },
  {
   "cell_type": "markdown",
   "id": "ranging-folks",
   "metadata": {},
   "source": [
    "### 5.4. Обработка дат"
   ]
  },
  {
   "cell_type": "markdown",
   "id": "excess-tunisia",
   "metadata": {},
   "source": [
    "Откроем сокращенный датасет ([оригинал](https://www.kaggle.com/jsphyg/weather-dataset-rattle-package)) c данными о погоде в Австралии:"
   ]
  },
  {
   "cell_type": "code",
   "execution_count": null,
   "id": "circular-alliance",
   "metadata": {},
   "outputs": [],
   "source": [
    "df = pd.read_csv('https://raw.githubusercontent.com/tttdddnet/Python-Data-Journalism/main/part1/weatherAUS.csv')\n",
    "df"
   ]
  },
  {
   "cell_type": "markdown",
   "id": "indie-microphone",
   "metadata": {},
   "source": [
    "Узнаем типы данных:"
   ]
  },
  {
   "cell_type": "code",
   "execution_count": null,
   "id": "contained-stanley",
   "metadata": {
    "scrolled": true
   },
   "outputs": [],
   "source": [
    "df.dtypes"
   ]
  },
  {
   "cell_type": "markdown",
   "id": "defensive-diagnosis",
   "metadata": {},
   "source": [
    "Как видно, элементы столбца `Date` – строчки. Поменяем их тип на дату методом `to_datetime()`:"
   ]
  },
  {
   "cell_type": "code",
   "execution_count": null,
   "id": "classified-patrol",
   "metadata": {
    "scrolled": true
   },
   "outputs": [],
   "source": [
    "df['Date'] = pd.to_datetime(df['Date'])\n",
    "df.dtypes"
   ]
  },
  {
   "cell_type": "markdown",
   "id": "generic-habitat",
   "metadata": {},
   "source": [
    "Добавим отдельно столбцы год, месяц, день из столбца `Date` методом `DatetimeIndex()`:"
   ]
  },
  {
   "cell_type": "code",
   "execution_count": null,
   "id": "grateful-precipitation",
   "metadata": {},
   "outputs": [],
   "source": [
    "df['Year'] = pd.DatetimeIndex(df['Date']).year\n",
    "df['Month'] = pd.DatetimeIndex(df['Date']).month\n",
    "df['Day'] = pd.DatetimeIndex(df['Date']).weekday\n",
    "df.head(10)"
   ]
  },
  {
   "cell_type": "markdown",
   "id": "obvious-calgary",
   "metadata": {},
   "source": [
    "Обратим внимание, что `DatetimeIndex.weekday` записывает не дату а индексы дней от `0` до `6`: понедельник имеет значение `0`, воскресенье – `6`."
   ]
  },
  {
   "cell_type": "markdown",
   "id": "operational-punch",
   "metadata": {},
   "source": [
    "Другой способ записи:"
   ]
  },
  {
   "cell_type": "code",
   "execution_count": null,
   "id": "featured-construction",
   "metadata": {
    "scrolled": false
   },
   "outputs": [],
   "source": [
    "df['Year2'] = df['Date'].dt.year\n",
    "df['Month2'] = df['Date'].dt.month\n",
    "df['Day2'] = df['Date'].dt.day\n",
    "df.head(10)"
   ]
  },
  {
   "cell_type": "markdown",
   "id": "authorized-discrimination",
   "metadata": {},
   "source": [
    "## 6. Фильтрация и поиск"
   ]
  },
  {
   "cell_type": "markdown",
   "id": "postal-yesterday",
   "metadata": {},
   "source": [
    "С помощью оператора сравнения `>=` получим все поисковые запросы c 2018 года включительно до 2020 года:"
   ]
  },
  {
   "cell_type": "code",
   "execution_count": null,
   "id": "textile-particular",
   "metadata": {},
   "outputs": [],
   "source": [
    "import pandas as pd\n",
    "df = pd.read_csv('https://raw.githubusercontent.com/tttdddnet/Python-Data-Journalism/main/part1/trends.csv')\n",
    "df[df['year'] >= 2018 ]"
   ]
  },
  {
   "cell_type": "markdown",
   "id": "hourly-kitchen",
   "metadata": {},
   "source": [
    "Более сложные выражения записываются с битовыми операторами. В данном случае с оператором `&` (`И`, `AND`):"
   ]
  },
  {
   "cell_type": "code",
   "execution_count": null,
   "id": "assisted-inquiry",
   "metadata": {
    "scrolled": false
   },
   "outputs": [],
   "source": [
    "df.loc[(df['year'] >= 2015) & (df['year'] < 2017) & (df['location'] == 'Global')]"
   ]
  },
  {
   "cell_type": "markdown",
   "id": "promising-scanning",
   "metadata": {},
   "source": [
    "### 6.1. Метод startswith()\n"
   ]
  },
  {
   "cell_type": "markdown",
   "id": "vital-scanner",
   "metadata": {},
   "source": [
    "Проверим, совпадает ли начало каждого элемента строки с шаблоном `G`, используя метод `startwith()`:"
   ]
  },
  {
   "cell_type": "code",
   "execution_count": null,
   "id": "express-methodology",
   "metadata": {},
   "outputs": [],
   "source": [
    "import pandas as pd\n",
    "df = pd.read_csv('https://raw.githubusercontent.com/tttdddnet/Python-Data-Journalism/main/part1/trends.csv')\n",
    "df['location_startswith'] = df['location'].str.startswith('G')\n",
    "df.head(3)"
   ]
  },
  {
   "cell_type": "markdown",
   "id": "theoretical-algebra",
   "metadata": {},
   "source": [
    "### 6.2. Метод endswith()"
   ]
  },
  {
   "cell_type": "markdown",
   "id": "choice-chambers",
   "metadata": {},
   "source": [
    "Метод `endswith()` проверяет совпадает ли конец каждого элемента строки с шаблоном `a`:"
   ]
  },
  {
   "cell_type": "code",
   "execution_count": null,
   "id": "through-continuity",
   "metadata": {
    "scrolled": true
   },
   "outputs": [],
   "source": [
    "df['location_endswith'] = df['location'].str.endswith('a')\n",
    "df.head(3)"
   ]
  },
  {
   "cell_type": "markdown",
   "id": "modern-cleanup",
   "metadata": {},
   "source": [
    "Методы `startwith()` и `endswith()` не поддерживают регулярные выражения. Для более точного поиска рассмотрим следующие методы."
   ]
  },
  {
   "cell_type": "markdown",
   "id": "unlike-thickness",
   "metadata": {},
   "source": [
    "### 6.3. Метод match()"
   ]
  },
  {
   "cell_type": "markdown",
   "id": "minute-thanks",
   "metadata": {},
   "source": [
    "Метод `match()` определяет, начинается ли каждая строка с шаблона, возвращая булево значение. Выведем все запросы о моделях `Nokia`:"
   ]
  },
  {
   "cell_type": "code",
   "execution_count": 32,
   "id": "accompanied-emerald",
   "metadata": {
    "scrolled": false
   },
   "outputs": [
    {
     "data": {
      "text/plain": [
       "0         True\n",
       "1        False\n",
       "2        False\n",
       "3        False\n",
       "4        False\n",
       "         ...  \n",
       "26950    False\n",
       "26951    False\n",
       "26952    False\n",
       "26953    False\n",
       "26954    False\n",
       "Name: query, Length: 26955, dtype: bool"
      ]
     },
     "execution_count": 32,
     "metadata": {},
     "output_type": "execute_result"
    }
   ],
   "source": [
    "df = pd.read_csv('https://raw.githubusercontent.com/tttdddnet/Python-Data-Journalism/main/part1/trends.csv')\n",
    "df['query'].str.match('Nokia', case=True)"
   ]
  },
  {
   "cell_type": "markdown",
   "id": "disturbed-feature",
   "metadata": {},
   "source": [
    "Чтобы вывести больше информации заключим предыдущую запись в `df[]`:"
   ]
  },
  {
   "cell_type": "code",
   "execution_count": 33,
   "id": "connected-amsterdam",
   "metadata": {
    "scrolled": false
   },
   "outputs": [
    {
     "data": {
      "text/html": [
       "<div>\n",
       "<style scoped>\n",
       "    .dataframe tbody tr th:only-of-type {\n",
       "        vertical-align: middle;\n",
       "    }\n",
       "\n",
       "    .dataframe tbody tr th {\n",
       "        vertical-align: top;\n",
       "    }\n",
       "\n",
       "    .dataframe thead th {\n",
       "        text-align: right;\n",
       "    }\n",
       "</style>\n",
       "<table border=\"1\" class=\"dataframe\">\n",
       "  <thead>\n",
       "    <tr style=\"text-align: right;\">\n",
       "      <th></th>\n",
       "      <th>location</th>\n",
       "      <th>year</th>\n",
       "      <th>category</th>\n",
       "      <th>rank</th>\n",
       "      <th>query</th>\n",
       "    </tr>\n",
       "  </thead>\n",
       "  <tbody>\n",
       "    <tr>\n",
       "      <th>0</th>\n",
       "      <td>Global</td>\n",
       "      <td>2001</td>\n",
       "      <td>Consumer Brands</td>\n",
       "      <td>1</td>\n",
       "      <td>Nokia</td>\n",
       "    </tr>\n",
       "    <tr>\n",
       "      <th>29</th>\n",
       "      <td>Global</td>\n",
       "      <td>2001</td>\n",
       "      <td>New Products</td>\n",
       "      <td>5</td>\n",
       "      <td>Nokia 5510</td>\n",
       "    </tr>\n",
       "    <tr>\n",
       "      <th>67</th>\n",
       "      <td>Global</td>\n",
       "      <td>2002</td>\n",
       "      <td>Consumer Brands</td>\n",
       "      <td>3</td>\n",
       "      <td>Nokia</td>\n",
       "    </tr>\n",
       "    <tr>\n",
       "      <th>265</th>\n",
       "      <td>Italy</td>\n",
       "      <td>2003</td>\n",
       "      <td>Popular Brands</td>\n",
       "      <td>1</td>\n",
       "      <td>Nokia</td>\n",
       "    </tr>\n",
       "    <tr>\n",
       "      <th>999</th>\n",
       "      <td>Finland</td>\n",
       "      <td>2008</td>\n",
       "      <td>Top Companies</td>\n",
       "      <td>5</td>\n",
       "      <td>Nokia</td>\n",
       "    </tr>\n",
       "    <tr>\n",
       "      <th>1062</th>\n",
       "      <td>Hong Kong</td>\n",
       "      <td>2008</td>\n",
       "      <td>數碼產品</td>\n",
       "      <td>3</td>\n",
       "      <td>Nokia</td>\n",
       "    </tr>\n",
       "    <tr>\n",
       "      <th>1553</th>\n",
       "      <td>Global</td>\n",
       "      <td>2009</td>\n",
       "      <td>Looking to Buy Online: Fastest Rising Searches</td>\n",
       "      <td>4</td>\n",
       "      <td>Nokia N97</td>\n",
       "    </tr>\n",
       "    <tr>\n",
       "      <th>1957</th>\n",
       "      <td>Global</td>\n",
       "      <td>2010</td>\n",
       "      <td>Consumer Electronics</td>\n",
       "      <td>3</td>\n",
       "      <td>Nokia 5530</td>\n",
       "    </tr>\n",
       "    <tr>\n",
       "      <th>1959</th>\n",
       "      <td>Global</td>\n",
       "      <td>2010</td>\n",
       "      <td>Consumer Electronics</td>\n",
       "      <td>5</td>\n",
       "      <td>Nokia N900</td>\n",
       "    </tr>\n",
       "    <tr>\n",
       "      <th>3031</th>\n",
       "      <td>Argentina</td>\n",
       "      <td>2012</td>\n",
       "      <td>Shopping</td>\n",
       "      <td>2</td>\n",
       "      <td>Nokia 500</td>\n",
       "    </tr>\n",
       "    <tr>\n",
       "      <th>3032</th>\n",
       "      <td>Argentina</td>\n",
       "      <td>2012</td>\n",
       "      <td>Shopping</td>\n",
       "      <td>3</td>\n",
       "      <td>Nokia lumia 900</td>\n",
       "    </tr>\n",
       "    <tr>\n",
       "      <th>3489</th>\n",
       "      <td>Finland</td>\n",
       "      <td>2012</td>\n",
       "      <td>Mobile Devices</td>\n",
       "      <td>5</td>\n",
       "      <td>Nokia 500</td>\n",
       "    </tr>\n",
       "    <tr>\n",
       "      <th>3583</th>\n",
       "      <td>Germany</td>\n",
       "      <td>2012</td>\n",
       "      <td>Gadgets</td>\n",
       "      <td>4</td>\n",
       "      <td>Nokia Lumia 920</td>\n",
       "    </tr>\n",
       "    <tr>\n",
       "      <th>4524</th>\n",
       "      <td>South Africa</td>\n",
       "      <td>2012</td>\n",
       "      <td>Gadgets &amp; Phones</td>\n",
       "      <td>5</td>\n",
       "      <td>Nokia n9</td>\n",
       "    </tr>\n",
       "    <tr>\n",
       "      <th>4774</th>\n",
       "      <td>Uganda</td>\n",
       "      <td>2012</td>\n",
       "      <td>Gadgets &amp; Phones</td>\n",
       "      <td>5</td>\n",
       "      <td>Nokia Asha 303</td>\n",
       "    </tr>\n",
       "    <tr>\n",
       "      <th>5261</th>\n",
       "      <td>Argentina</td>\n",
       "      <td>2013</td>\n",
       "      <td>Tecnología</td>\n",
       "      <td>2</td>\n",
       "      <td>Nokia Asha 311</td>\n",
       "    </tr>\n",
       "    <tr>\n",
       "      <th>5262</th>\n",
       "      <td>Argentina</td>\n",
       "      <td>2013</td>\n",
       "      <td>Tecnología</td>\n",
       "      <td>3</td>\n",
       "      <td>Nokia Lumia 620</td>\n",
       "    </tr>\n",
       "    <tr>\n",
       "      <th>7996</th>\n",
       "      <td>Vietnam</td>\n",
       "      <td>2013</td>\n",
       "      <td>Công nghệ</td>\n",
       "      <td>2</td>\n",
       "      <td>Nokia Lumia 520</td>\n",
       "    </tr>\n",
       "    <tr>\n",
       "      <th>8030</th>\n",
       "      <td>Vietnam</td>\n",
       "      <td>2013</td>\n",
       "      <td>Thương Hiệu</td>\n",
       "      <td>1</td>\n",
       "      <td>Nokia</td>\n",
       "    </tr>\n",
       "    <tr>\n",
       "      <th>8821</th>\n",
       "      <td>Ghana</td>\n",
       "      <td>2014</td>\n",
       "      <td>Mobile Phones</td>\n",
       "      <td>2</td>\n",
       "      <td>Nokia XL</td>\n",
       "    </tr>\n",
       "    <tr>\n",
       "      <th>8823</th>\n",
       "      <td>Ghana</td>\n",
       "      <td>2014</td>\n",
       "      <td>Mobile Phones</td>\n",
       "      <td>4</td>\n",
       "      <td>Nokia X</td>\n",
       "    </tr>\n",
       "    <tr>\n",
       "      <th>8961</th>\n",
       "      <td>Indonesia</td>\n",
       "      <td>2014</td>\n",
       "      <td>Gadget</td>\n",
       "      <td>2</td>\n",
       "      <td>Nokia X</td>\n",
       "    </tr>\n",
       "    <tr>\n",
       "      <th>9351</th>\n",
       "      <td>Nigeria</td>\n",
       "      <td>2014</td>\n",
       "      <td>Mobile Phones</td>\n",
       "      <td>2</td>\n",
       "      <td>Nokia X</td>\n",
       "    </tr>\n",
       "    <tr>\n",
       "      <th>9999</th>\n",
       "      <td>Thailand</td>\n",
       "      <td>2014</td>\n",
       "      <td>แก็ดเจ็ตและเทคโนโลยี</td>\n",
       "      <td>5</td>\n",
       "      <td>Nokia X</td>\n",
       "    </tr>\n",
       "    <tr>\n",
       "      <th>10367</th>\n",
       "      <td>Vietnam</td>\n",
       "      <td>2014</td>\n",
       "      <td>Điện thoại</td>\n",
       "      <td>3</td>\n",
       "      <td>Nokia X</td>\n",
       "    </tr>\n",
       "    <tr>\n",
       "      <th>17103</th>\n",
       "      <td>Hong Kong</td>\n",
       "      <td>2017</td>\n",
       "      <td>熱爆 Gadget</td>\n",
       "      <td>4</td>\n",
       "      <td>Nokia 8</td>\n",
       "    </tr>\n",
       "    <tr>\n",
       "      <th>17104</th>\n",
       "      <td>Hong Kong</td>\n",
       "      <td>2017</td>\n",
       "      <td>熱爆 Gadget</td>\n",
       "      <td>5</td>\n",
       "      <td>Nokia 6</td>\n",
       "    </tr>\n",
       "  </tbody>\n",
       "</table>\n",
       "</div>"
      ],
      "text/plain": [
       "           location  year                                        category  \\\n",
       "0            Global  2001                                 Consumer Brands   \n",
       "29           Global  2001                                    New Products   \n",
       "67           Global  2002                                 Consumer Brands   \n",
       "265           Italy  2003                                  Popular Brands   \n",
       "999         Finland  2008                                   Top Companies   \n",
       "1062      Hong Kong  2008                                            數碼產品   \n",
       "1553         Global  2009  Looking to Buy Online: Fastest Rising Searches   \n",
       "1957         Global  2010                            Consumer Electronics   \n",
       "1959         Global  2010                            Consumer Electronics   \n",
       "3031      Argentina  2012                                        Shopping   \n",
       "3032      Argentina  2012                                        Shopping   \n",
       "3489        Finland  2012                                  Mobile Devices   \n",
       "3583        Germany  2012                                         Gadgets   \n",
       "4524   South Africa  2012                                Gadgets & Phones   \n",
       "4774         Uganda  2012                                Gadgets & Phones   \n",
       "5261      Argentina  2013                                      Tecnología   \n",
       "5262      Argentina  2013                                      Tecnología   \n",
       "7996        Vietnam  2013                                      Công nghệ    \n",
       "8030        Vietnam  2013                                    Thương Hiệu    \n",
       "8821          Ghana  2014                                   Mobile Phones   \n",
       "8823          Ghana  2014                                   Mobile Phones   \n",
       "8961      Indonesia  2014                                          Gadget   \n",
       "9351        Nigeria  2014                                   Mobile Phones   \n",
       "9999       Thailand  2014                            แก็ดเจ็ตและเทคโนโลยี   \n",
       "10367       Vietnam  2014                                      Điện thoại   \n",
       "17103     Hong Kong  2017                                       熱爆 Gadget   \n",
       "17104     Hong Kong  2017                                       熱爆 Gadget   \n",
       "\n",
       "       rank            query  \n",
       "0         1            Nokia  \n",
       "29        5       Nokia 5510  \n",
       "67        3            Nokia  \n",
       "265       1            Nokia  \n",
       "999       5            Nokia  \n",
       "1062      3            Nokia  \n",
       "1553      4        Nokia N97  \n",
       "1957      3       Nokia 5530  \n",
       "1959      5       Nokia N900  \n",
       "3031      2        Nokia 500  \n",
       "3032      3  Nokia lumia 900  \n",
       "3489      5        Nokia 500  \n",
       "3583      4  Nokia Lumia 920  \n",
       "4524      5         Nokia n9  \n",
       "4774      5   Nokia Asha 303  \n",
       "5261      2   Nokia Asha 311  \n",
       "5262      3  Nokia Lumia 620  \n",
       "7996      2  Nokia Lumia 520  \n",
       "8030      1            Nokia  \n",
       "8821      2         Nokia XL  \n",
       "8823      4          Nokia X  \n",
       "8961      2          Nokia X  \n",
       "9351      2          Nokia X  \n",
       "9999      5          Nokia X  \n",
       "10367     3          Nokia X  \n",
       "17103     4          Nokia 8  \n",
       "17104     5          Nokia 6  "
      ]
     },
     "execution_count": 33,
     "metadata": {},
     "output_type": "execute_result"
    }
   ],
   "source": [
    "df[df['query'].str.match('Nokia', case=True)]"
   ]
  },
  {
   "cell_type": "markdown",
   "id": "palestinian-surveillance",
   "metadata": {},
   "source": [
    "В запросах попадается название компании `Nokia` без модели, например, `Nokia 8`. Уточним запрос, воспользовавшись регулярным выражением:"
   ]
  },
  {
   "cell_type": "code",
   "execution_count": 34,
   "id": "verbal-copying",
   "metadata": {},
   "outputs": [
    {
     "data": {
      "text/html": [
       "<div>\n",
       "<style scoped>\n",
       "    .dataframe tbody tr th:only-of-type {\n",
       "        vertical-align: middle;\n",
       "    }\n",
       "\n",
       "    .dataframe tbody tr th {\n",
       "        vertical-align: top;\n",
       "    }\n",
       "\n",
       "    .dataframe thead th {\n",
       "        text-align: right;\n",
       "    }\n",
       "</style>\n",
       "<table border=\"1\" class=\"dataframe\">\n",
       "  <thead>\n",
       "    <tr style=\"text-align: right;\">\n",
       "      <th></th>\n",
       "      <th>location</th>\n",
       "      <th>year</th>\n",
       "      <th>category</th>\n",
       "      <th>rank</th>\n",
       "      <th>query</th>\n",
       "    </tr>\n",
       "  </thead>\n",
       "  <tbody>\n",
       "    <tr>\n",
       "      <th>29</th>\n",
       "      <td>Global</td>\n",
       "      <td>2001</td>\n",
       "      <td>New Products</td>\n",
       "      <td>5</td>\n",
       "      <td>Nokia 5510</td>\n",
       "    </tr>\n",
       "    <tr>\n",
       "      <th>1553</th>\n",
       "      <td>Global</td>\n",
       "      <td>2009</td>\n",
       "      <td>Looking to Buy Online: Fastest Rising Searches</td>\n",
       "      <td>4</td>\n",
       "      <td>Nokia N97</td>\n",
       "    </tr>\n",
       "    <tr>\n",
       "      <th>1957</th>\n",
       "      <td>Global</td>\n",
       "      <td>2010</td>\n",
       "      <td>Consumer Electronics</td>\n",
       "      <td>3</td>\n",
       "      <td>Nokia 5530</td>\n",
       "    </tr>\n",
       "    <tr>\n",
       "      <th>1959</th>\n",
       "      <td>Global</td>\n",
       "      <td>2010</td>\n",
       "      <td>Consumer Electronics</td>\n",
       "      <td>5</td>\n",
       "      <td>Nokia N900</td>\n",
       "    </tr>\n",
       "    <tr>\n",
       "      <th>3031</th>\n",
       "      <td>Argentina</td>\n",
       "      <td>2012</td>\n",
       "      <td>Shopping</td>\n",
       "      <td>2</td>\n",
       "      <td>Nokia 500</td>\n",
       "    </tr>\n",
       "    <tr>\n",
       "      <th>3032</th>\n",
       "      <td>Argentina</td>\n",
       "      <td>2012</td>\n",
       "      <td>Shopping</td>\n",
       "      <td>3</td>\n",
       "      <td>Nokia lumia 900</td>\n",
       "    </tr>\n",
       "    <tr>\n",
       "      <th>3489</th>\n",
       "      <td>Finland</td>\n",
       "      <td>2012</td>\n",
       "      <td>Mobile Devices</td>\n",
       "      <td>5</td>\n",
       "      <td>Nokia 500</td>\n",
       "    </tr>\n",
       "    <tr>\n",
       "      <th>3583</th>\n",
       "      <td>Germany</td>\n",
       "      <td>2012</td>\n",
       "      <td>Gadgets</td>\n",
       "      <td>4</td>\n",
       "      <td>Nokia Lumia 920</td>\n",
       "    </tr>\n",
       "    <tr>\n",
       "      <th>4524</th>\n",
       "      <td>South Africa</td>\n",
       "      <td>2012</td>\n",
       "      <td>Gadgets &amp; Phones</td>\n",
       "      <td>5</td>\n",
       "      <td>Nokia n9</td>\n",
       "    </tr>\n",
       "    <tr>\n",
       "      <th>4774</th>\n",
       "      <td>Uganda</td>\n",
       "      <td>2012</td>\n",
       "      <td>Gadgets &amp; Phones</td>\n",
       "      <td>5</td>\n",
       "      <td>Nokia Asha 303</td>\n",
       "    </tr>\n",
       "    <tr>\n",
       "      <th>5261</th>\n",
       "      <td>Argentina</td>\n",
       "      <td>2013</td>\n",
       "      <td>Tecnología</td>\n",
       "      <td>2</td>\n",
       "      <td>Nokia Asha 311</td>\n",
       "    </tr>\n",
       "    <tr>\n",
       "      <th>5262</th>\n",
       "      <td>Argentina</td>\n",
       "      <td>2013</td>\n",
       "      <td>Tecnología</td>\n",
       "      <td>3</td>\n",
       "      <td>Nokia Lumia 620</td>\n",
       "    </tr>\n",
       "    <tr>\n",
       "      <th>7996</th>\n",
       "      <td>Vietnam</td>\n",
       "      <td>2013</td>\n",
       "      <td>Công nghệ</td>\n",
       "      <td>2</td>\n",
       "      <td>Nokia Lumia 520</td>\n",
       "    </tr>\n",
       "    <tr>\n",
       "      <th>8821</th>\n",
       "      <td>Ghana</td>\n",
       "      <td>2014</td>\n",
       "      <td>Mobile Phones</td>\n",
       "      <td>2</td>\n",
       "      <td>Nokia XL</td>\n",
       "    </tr>\n",
       "    <tr>\n",
       "      <th>8823</th>\n",
       "      <td>Ghana</td>\n",
       "      <td>2014</td>\n",
       "      <td>Mobile Phones</td>\n",
       "      <td>4</td>\n",
       "      <td>Nokia X</td>\n",
       "    </tr>\n",
       "    <tr>\n",
       "      <th>8961</th>\n",
       "      <td>Indonesia</td>\n",
       "      <td>2014</td>\n",
       "      <td>Gadget</td>\n",
       "      <td>2</td>\n",
       "      <td>Nokia X</td>\n",
       "    </tr>\n",
       "    <tr>\n",
       "      <th>9351</th>\n",
       "      <td>Nigeria</td>\n",
       "      <td>2014</td>\n",
       "      <td>Mobile Phones</td>\n",
       "      <td>2</td>\n",
       "      <td>Nokia X</td>\n",
       "    </tr>\n",
       "    <tr>\n",
       "      <th>9999</th>\n",
       "      <td>Thailand</td>\n",
       "      <td>2014</td>\n",
       "      <td>แก็ดเจ็ตและเทคโนโลยี</td>\n",
       "      <td>5</td>\n",
       "      <td>Nokia X</td>\n",
       "    </tr>\n",
       "    <tr>\n",
       "      <th>10367</th>\n",
       "      <td>Vietnam</td>\n",
       "      <td>2014</td>\n",
       "      <td>Điện thoại</td>\n",
       "      <td>3</td>\n",
       "      <td>Nokia X</td>\n",
       "    </tr>\n",
       "    <tr>\n",
       "      <th>17103</th>\n",
       "      <td>Hong Kong</td>\n",
       "      <td>2017</td>\n",
       "      <td>熱爆 Gadget</td>\n",
       "      <td>4</td>\n",
       "      <td>Nokia 8</td>\n",
       "    </tr>\n",
       "    <tr>\n",
       "      <th>17104</th>\n",
       "      <td>Hong Kong</td>\n",
       "      <td>2017</td>\n",
       "      <td>熱爆 Gadget</td>\n",
       "      <td>5</td>\n",
       "      <td>Nokia 6</td>\n",
       "    </tr>\n",
       "  </tbody>\n",
       "</table>\n",
       "</div>"
      ],
      "text/plain": [
       "           location  year                                        category  \\\n",
       "29           Global  2001                                    New Products   \n",
       "1553         Global  2009  Looking to Buy Online: Fastest Rising Searches   \n",
       "1957         Global  2010                            Consumer Electronics   \n",
       "1959         Global  2010                            Consumer Electronics   \n",
       "3031      Argentina  2012                                        Shopping   \n",
       "3032      Argentina  2012                                        Shopping   \n",
       "3489        Finland  2012                                  Mobile Devices   \n",
       "3583        Germany  2012                                         Gadgets   \n",
       "4524   South Africa  2012                                Gadgets & Phones   \n",
       "4774         Uganda  2012                                Gadgets & Phones   \n",
       "5261      Argentina  2013                                      Tecnología   \n",
       "5262      Argentina  2013                                      Tecnología   \n",
       "7996        Vietnam  2013                                      Công nghệ    \n",
       "8821          Ghana  2014                                   Mobile Phones   \n",
       "8823          Ghana  2014                                   Mobile Phones   \n",
       "8961      Indonesia  2014                                          Gadget   \n",
       "9351        Nigeria  2014                                   Mobile Phones   \n",
       "9999       Thailand  2014                            แก็ดเจ็ตและเทคโนโลยี   \n",
       "10367       Vietnam  2014                                      Điện thoại   \n",
       "17103     Hong Kong  2017                                       熱爆 Gadget   \n",
       "17104     Hong Kong  2017                                       熱爆 Gadget   \n",
       "\n",
       "       rank            query  \n",
       "29        5       Nokia 5510  \n",
       "1553      4        Nokia N97  \n",
       "1957      3       Nokia 5530  \n",
       "1959      5       Nokia N900  \n",
       "3031      2        Nokia 500  \n",
       "3032      3  Nokia lumia 900  \n",
       "3489      5        Nokia 500  \n",
       "3583      4  Nokia Lumia 920  \n",
       "4524      5         Nokia n9  \n",
       "4774      5   Nokia Asha 303  \n",
       "5261      2   Nokia Asha 311  \n",
       "5262      3  Nokia Lumia 620  \n",
       "7996      2  Nokia Lumia 520  \n",
       "8821      2         Nokia XL  \n",
       "8823      4          Nokia X  \n",
       "8961      2          Nokia X  \n",
       "9351      2          Nokia X  \n",
       "9999      5          Nokia X  \n",
       "10367     3          Nokia X  \n",
       "17103     4          Nokia 8  \n",
       "17104     5          Nokia 6  "
      ]
     },
     "execution_count": 34,
     "metadata": {},
     "output_type": "execute_result"
    }
   ],
   "source": [
    "import re\n",
    "df[df['query'].str.match(r'\\b..[k][i][a]\\s.', case=True)]"
   ]
  },
  {
   "cell_type": "markdown",
   "id": "alternative-measurement",
   "metadata": {},
   "source": [
    "Здесь:  \n",
    "`import re` – импорт библиотеки решулярных выражений.  \n",
    "`match()` – ищет совпадение в начале строки.  \n",
    "`\\b` – обозначает границу слова. В нашем случае: слева – ничего, справа – буква..  \n",
    "`.` – любой один символ, кроме символа переноса строки.    \n",
    "`[k][i][a]` – только символы `k`, `i` и `a` соответственно.  \n",
    "`\\s` – любой пробельный символ.  \n",
    "`case=True` – чувствителен к регистру.  "
   ]
  },
  {
   "cell_type": "markdown",
   "id": "wanted-recall",
   "metadata": {},
   "source": [
    "### 6.4. Метод findall()"
   ]
  },
  {
   "cell_type": "markdown",
   "id": "clean-logan",
   "metadata": {},
   "source": [
    "Метод `findall` возвращает совпадения шаблонов:"
   ]
  },
  {
   "cell_type": "code",
   "execution_count": 36,
   "id": "essential-corruption",
   "metadata": {},
   "outputs": [
    {
     "data": {
      "text/html": [
       "<div>\n",
       "<style scoped>\n",
       "    .dataframe tbody tr th:only-of-type {\n",
       "        vertical-align: middle;\n",
       "    }\n",
       "\n",
       "    .dataframe tbody tr th {\n",
       "        vertical-align: top;\n",
       "    }\n",
       "\n",
       "    .dataframe thead th {\n",
       "        text-align: right;\n",
       "    }\n",
       "</style>\n",
       "<table border=\"1\" class=\"dataframe\">\n",
       "  <thead>\n",
       "    <tr style=\"text-align: right;\">\n",
       "      <th></th>\n",
       "      <th>location</th>\n",
       "      <th>year</th>\n",
       "      <th>category</th>\n",
       "      <th>rank</th>\n",
       "      <th>query</th>\n",
       "      <th>findall</th>\n",
       "    </tr>\n",
       "  </thead>\n",
       "  <tbody>\n",
       "    <tr>\n",
       "      <th>29</th>\n",
       "      <td>Global</td>\n",
       "      <td>2001</td>\n",
       "      <td>New Products</td>\n",
       "      <td>5</td>\n",
       "      <td>Nokia 5510</td>\n",
       "      <td>Nokia 5</td>\n",
       "    </tr>\n",
       "    <tr>\n",
       "      <th>1553</th>\n",
       "      <td>Global</td>\n",
       "      <td>2009</td>\n",
       "      <td>Looking to Buy Online: Fastest Rising Searches</td>\n",
       "      <td>4</td>\n",
       "      <td>Nokia N97</td>\n",
       "      <td>Nokia N</td>\n",
       "    </tr>\n",
       "    <tr>\n",
       "      <th>1957</th>\n",
       "      <td>Global</td>\n",
       "      <td>2010</td>\n",
       "      <td>Consumer Electronics</td>\n",
       "      <td>3</td>\n",
       "      <td>Nokia 5530</td>\n",
       "      <td>Nokia 5</td>\n",
       "    </tr>\n",
       "    <tr>\n",
       "      <th>1959</th>\n",
       "      <td>Global</td>\n",
       "      <td>2010</td>\n",
       "      <td>Consumer Electronics</td>\n",
       "      <td>5</td>\n",
       "      <td>Nokia N900</td>\n",
       "      <td>Nokia N</td>\n",
       "    </tr>\n",
       "    <tr>\n",
       "      <th>3031</th>\n",
       "      <td>Argentina</td>\n",
       "      <td>2012</td>\n",
       "      <td>Shopping</td>\n",
       "      <td>2</td>\n",
       "      <td>Nokia 500</td>\n",
       "      <td>Nokia 5</td>\n",
       "    </tr>\n",
       "    <tr>\n",
       "      <th>3032</th>\n",
       "      <td>Argentina</td>\n",
       "      <td>2012</td>\n",
       "      <td>Shopping</td>\n",
       "      <td>3</td>\n",
       "      <td>Nokia lumia 900</td>\n",
       "      <td>Nokia l</td>\n",
       "    </tr>\n",
       "    <tr>\n",
       "      <th>3489</th>\n",
       "      <td>Finland</td>\n",
       "      <td>2012</td>\n",
       "      <td>Mobile Devices</td>\n",
       "      <td>5</td>\n",
       "      <td>Nokia 500</td>\n",
       "      <td>Nokia 5</td>\n",
       "    </tr>\n",
       "    <tr>\n",
       "      <th>3583</th>\n",
       "      <td>Germany</td>\n",
       "      <td>2012</td>\n",
       "      <td>Gadgets</td>\n",
       "      <td>4</td>\n",
       "      <td>Nokia Lumia 920</td>\n",
       "      <td>Nokia L</td>\n",
       "    </tr>\n",
       "    <tr>\n",
       "      <th>4524</th>\n",
       "      <td>South Africa</td>\n",
       "      <td>2012</td>\n",
       "      <td>Gadgets &amp; Phones</td>\n",
       "      <td>5</td>\n",
       "      <td>Nokia n9</td>\n",
       "      <td>Nokia n</td>\n",
       "    </tr>\n",
       "    <tr>\n",
       "      <th>4774</th>\n",
       "      <td>Uganda</td>\n",
       "      <td>2012</td>\n",
       "      <td>Gadgets &amp; Phones</td>\n",
       "      <td>5</td>\n",
       "      <td>Nokia Asha 303</td>\n",
       "      <td>Nokia A</td>\n",
       "    </tr>\n",
       "    <tr>\n",
       "      <th>5261</th>\n",
       "      <td>Argentina</td>\n",
       "      <td>2013</td>\n",
       "      <td>Tecnología</td>\n",
       "      <td>2</td>\n",
       "      <td>Nokia Asha 311</td>\n",
       "      <td>Nokia A</td>\n",
       "    </tr>\n",
       "    <tr>\n",
       "      <th>5262</th>\n",
       "      <td>Argentina</td>\n",
       "      <td>2013</td>\n",
       "      <td>Tecnología</td>\n",
       "      <td>3</td>\n",
       "      <td>Nokia Lumia 620</td>\n",
       "      <td>Nokia L</td>\n",
       "    </tr>\n",
       "    <tr>\n",
       "      <th>7996</th>\n",
       "      <td>Vietnam</td>\n",
       "      <td>2013</td>\n",
       "      <td>Công nghệ</td>\n",
       "      <td>2</td>\n",
       "      <td>Nokia Lumia 520</td>\n",
       "      <td>Nokia L</td>\n",
       "    </tr>\n",
       "    <tr>\n",
       "      <th>8821</th>\n",
       "      <td>Ghana</td>\n",
       "      <td>2014</td>\n",
       "      <td>Mobile Phones</td>\n",
       "      <td>2</td>\n",
       "      <td>Nokia XL</td>\n",
       "      <td>Nokia X</td>\n",
       "    </tr>\n",
       "    <tr>\n",
       "      <th>8823</th>\n",
       "      <td>Ghana</td>\n",
       "      <td>2014</td>\n",
       "      <td>Mobile Phones</td>\n",
       "      <td>4</td>\n",
       "      <td>Nokia X</td>\n",
       "      <td>Nokia X</td>\n",
       "    </tr>\n",
       "    <tr>\n",
       "      <th>8961</th>\n",
       "      <td>Indonesia</td>\n",
       "      <td>2014</td>\n",
       "      <td>Gadget</td>\n",
       "      <td>2</td>\n",
       "      <td>Nokia X</td>\n",
       "      <td>Nokia X</td>\n",
       "    </tr>\n",
       "    <tr>\n",
       "      <th>9351</th>\n",
       "      <td>Nigeria</td>\n",
       "      <td>2014</td>\n",
       "      <td>Mobile Phones</td>\n",
       "      <td>2</td>\n",
       "      <td>Nokia X</td>\n",
       "      <td>Nokia X</td>\n",
       "    </tr>\n",
       "    <tr>\n",
       "      <th>9999</th>\n",
       "      <td>Thailand</td>\n",
       "      <td>2014</td>\n",
       "      <td>แก็ดเจ็ตและเทคโนโลยี</td>\n",
       "      <td>5</td>\n",
       "      <td>Nokia X</td>\n",
       "      <td>Nokia X</td>\n",
       "    </tr>\n",
       "    <tr>\n",
       "      <th>10367</th>\n",
       "      <td>Vietnam</td>\n",
       "      <td>2014</td>\n",
       "      <td>Điện thoại</td>\n",
       "      <td>3</td>\n",
       "      <td>Nokia X</td>\n",
       "      <td>Nokia X</td>\n",
       "    </tr>\n",
       "    <tr>\n",
       "      <th>17103</th>\n",
       "      <td>Hong Kong</td>\n",
       "      <td>2017</td>\n",
       "      <td>熱爆 Gadget</td>\n",
       "      <td>4</td>\n",
       "      <td>Nokia 8</td>\n",
       "      <td>Nokia 8</td>\n",
       "    </tr>\n",
       "    <tr>\n",
       "      <th>17104</th>\n",
       "      <td>Hong Kong</td>\n",
       "      <td>2017</td>\n",
       "      <td>熱爆 Gadget</td>\n",
       "      <td>5</td>\n",
       "      <td>Nokia 6</td>\n",
       "      <td>Nokia 6</td>\n",
       "    </tr>\n",
       "  </tbody>\n",
       "</table>\n",
       "</div>"
      ],
      "text/plain": [
       "           location  year                                        category  \\\n",
       "29           Global  2001                                    New Products   \n",
       "1553         Global  2009  Looking to Buy Online: Fastest Rising Searches   \n",
       "1957         Global  2010                            Consumer Electronics   \n",
       "1959         Global  2010                            Consumer Electronics   \n",
       "3031      Argentina  2012                                        Shopping   \n",
       "3032      Argentina  2012                                        Shopping   \n",
       "3489        Finland  2012                                  Mobile Devices   \n",
       "3583        Germany  2012                                         Gadgets   \n",
       "4524   South Africa  2012                                Gadgets & Phones   \n",
       "4774         Uganda  2012                                Gadgets & Phones   \n",
       "5261      Argentina  2013                                      Tecnología   \n",
       "5262      Argentina  2013                                      Tecnología   \n",
       "7996        Vietnam  2013                                      Công nghệ    \n",
       "8821          Ghana  2014                                   Mobile Phones   \n",
       "8823          Ghana  2014                                   Mobile Phones   \n",
       "8961      Indonesia  2014                                          Gadget   \n",
       "9351        Nigeria  2014                                   Mobile Phones   \n",
       "9999       Thailand  2014                            แก็ดเจ็ตและเทคโนโลยี   \n",
       "10367       Vietnam  2014                                      Điện thoại   \n",
       "17103     Hong Kong  2017                                       熱爆 Gadget   \n",
       "17104     Hong Kong  2017                                       熱爆 Gadget   \n",
       "\n",
       "       rank            query  findall  \n",
       "29        5       Nokia 5510  Nokia 5  \n",
       "1553      4        Nokia N97  Nokia N  \n",
       "1957      3       Nokia 5530  Nokia 5  \n",
       "1959      5       Nokia N900  Nokia N  \n",
       "3031      2        Nokia 500  Nokia 5  \n",
       "3032      3  Nokia lumia 900  Nokia l  \n",
       "3489      5        Nokia 500  Nokia 5  \n",
       "3583      4  Nokia Lumia 920  Nokia L  \n",
       "4524      5         Nokia n9  Nokia n  \n",
       "4774      5   Nokia Asha 303  Nokia A  \n",
       "5261      2   Nokia Asha 311  Nokia A  \n",
       "5262      3  Nokia Lumia 620  Nokia L  \n",
       "7996      2  Nokia Lumia 520  Nokia L  \n",
       "8821      2         Nokia XL  Nokia X  \n",
       "8823      4          Nokia X  Nokia X  \n",
       "8961      2          Nokia X  Nokia X  \n",
       "9351      2          Nokia X  Nokia X  \n",
       "9999      5          Nokia X  Nokia X  \n",
       "10367     3          Nokia X  Nokia X  \n",
       "17103     4          Nokia 8  Nokia 8  \n",
       "17104     5          Nokia 6  Nokia 6  "
      ]
     },
     "execution_count": 36,
     "metadata": {},
     "output_type": "execute_result"
    }
   ],
   "source": [
    "df['findall'] = df['query'].str.findall(r'\\b..[k][i][a]\\s.', flags=re.IGNORECASE).transform(''.join)\n",
    "df.loc[df['findall'] != '']"
   ]
  },
  {
   "cell_type": "markdown",
   "id": "small-failing",
   "metadata": {},
   "source": [
    "Здесь:  \n",
    "`df['findall'] != '']` – отбирает все значения, за исключением пустой строчки.  \n",
    "`flags=re.IGNORECASE` – игнорирует регистр при поиске.  \n",
    "`transform(''.join)` – по умолчанию `findall()` заключает все запросы в квадратные скобки `[]`, что не очень удобно для последующей обработки. Поэтому мы заменили скобки на пустое место `''`."
   ]
  },
  {
   "cell_type": "markdown",
   "id": "postal-tonight",
   "metadata": {},
   "source": [
    "Напишем цикл, который выводит отфильтрованные запросы:"
   ]
  },
  {
   "cell_type": "code",
   "execution_count": 37,
   "id": "opposite-night",
   "metadata": {},
   "outputs": [
    {
     "name": "stdout",
     "output_type": "stream",
     "text": [
      "Индекс: 29, Значение: Nokia 5510\n",
      "Индекс: 1553, Значение: Nokia N97\n",
      "Индекс: 1957, Значение: Nokia 5530\n",
      "Индекс: 1959, Значение: Nokia N900\n",
      "Индекс: 3031, Значение: Nokia 500\n",
      "Индекс: 3032, Значение: Nokia lumia 900\n",
      "Индекс: 3489, Значение: Nokia 500\n",
      "Индекс: 3583, Значение: Nokia Lumia 920\n",
      "Индекс: 4524, Значение: Nokia n9\n",
      "Индекс: 4774, Значение: Nokia Asha 303\n",
      "Индекс: 5261, Значение: Nokia Asha 311\n",
      "Индекс: 5262, Значение: Nokia Lumia 620\n",
      "Индекс: 7996, Значение: Nokia Lumia 520\n",
      "Индекс: 8821, Значение: Nokia XL\n",
      "Индекс: 8823, Значение: Nokia X\n",
      "Индекс: 8961, Значение: Nokia X\n",
      "Индекс: 9351, Значение: Nokia X\n",
      "Индекс: 9999, Значение: Nokia X\n",
      "Индекс: 10367, Значение: Nokia X\n",
      "Индекс: 17103, Значение: Nokia 8\n",
      "Индекс: 17104, Значение: Nokia 6\n"
     ]
    }
   ],
   "source": [
    "for index, value in df['findall'].items():\n",
    "    if value != '':\n",
    "        print(f\"Индекс: {index}, Значение: {df.iloc[index].query}\")"
   ]
  },
  {
   "cell_type": "markdown",
   "id": "confidential-swiss",
   "metadata": {},
   "source": [
    "### 6.5. Метод str.contains()"
   ]
  },
  {
   "cell_type": "markdown",
   "id": "understood-newsletter",
   "metadata": {},
   "source": [
    "Метод `str.contains()` в результате поиска возвращает булево значение:"
   ]
  },
  {
   "cell_type": "code",
   "execution_count": 39,
   "id": "sweet-palestine",
   "metadata": {
    "scrolled": true
   },
   "outputs": [
    {
     "data": {
      "text/plain": [
       "0        False\n",
       "1        False\n",
       "2        False\n",
       "3        False\n",
       "4        False\n",
       "         ...  \n",
       "26950    False\n",
       "26951    False\n",
       "26952    False\n",
       "26953    False\n",
       "26954    False\n",
       "Name: query, Length: 26955, dtype: bool"
      ]
     },
     "execution_count": 39,
     "metadata": {},
     "output_type": "execute_result"
    }
   ],
   "source": [
    "df = pd.read_csv('https://raw.githubusercontent.com/tttdddnet/Python-Data-Journalism/main/part1/trends.csv')\n",
    "df['query'].str.contains(r'\\b..[k][i][a]\\s.', regex=True)"
   ]
  },
  {
   "cell_type": "code",
   "execution_count": 40,
   "id": "broad-possibility",
   "metadata": {},
   "outputs": [
    {
     "data": {
      "text/html": [
       "<div>\n",
       "<style scoped>\n",
       "    .dataframe tbody tr th:only-of-type {\n",
       "        vertical-align: middle;\n",
       "    }\n",
       "\n",
       "    .dataframe tbody tr th {\n",
       "        vertical-align: top;\n",
       "    }\n",
       "\n",
       "    .dataframe thead th {\n",
       "        text-align: right;\n",
       "    }\n",
       "</style>\n",
       "<table border=\"1\" class=\"dataframe\">\n",
       "  <thead>\n",
       "    <tr style=\"text-align: right;\">\n",
       "      <th></th>\n",
       "      <th>location</th>\n",
       "      <th>year</th>\n",
       "      <th>category</th>\n",
       "      <th>rank</th>\n",
       "      <th>query</th>\n",
       "    </tr>\n",
       "  </thead>\n",
       "  <tbody>\n",
       "    <tr>\n",
       "      <th>29</th>\n",
       "      <td>Global</td>\n",
       "      <td>2001</td>\n",
       "      <td>New Products</td>\n",
       "      <td>5</td>\n",
       "      <td>Nokia 5510</td>\n",
       "    </tr>\n",
       "    <tr>\n",
       "      <th>1553</th>\n",
       "      <td>Global</td>\n",
       "      <td>2009</td>\n",
       "      <td>Looking to Buy Online: Fastest Rising Searches</td>\n",
       "      <td>4</td>\n",
       "      <td>Nokia N97</td>\n",
       "    </tr>\n",
       "    <tr>\n",
       "      <th>1957</th>\n",
       "      <td>Global</td>\n",
       "      <td>2010</td>\n",
       "      <td>Consumer Electronics</td>\n",
       "      <td>3</td>\n",
       "      <td>Nokia 5530</td>\n",
       "    </tr>\n",
       "    <tr>\n",
       "      <th>1959</th>\n",
       "      <td>Global</td>\n",
       "      <td>2010</td>\n",
       "      <td>Consumer Electronics</td>\n",
       "      <td>5</td>\n",
       "      <td>Nokia N900</td>\n",
       "    </tr>\n",
       "    <tr>\n",
       "      <th>3031</th>\n",
       "      <td>Argentina</td>\n",
       "      <td>2012</td>\n",
       "      <td>Shopping</td>\n",
       "      <td>2</td>\n",
       "      <td>Nokia 500</td>\n",
       "    </tr>\n",
       "    <tr>\n",
       "      <th>3032</th>\n",
       "      <td>Argentina</td>\n",
       "      <td>2012</td>\n",
       "      <td>Shopping</td>\n",
       "      <td>3</td>\n",
       "      <td>Nokia lumia 900</td>\n",
       "    </tr>\n",
       "    <tr>\n",
       "      <th>3489</th>\n",
       "      <td>Finland</td>\n",
       "      <td>2012</td>\n",
       "      <td>Mobile Devices</td>\n",
       "      <td>5</td>\n",
       "      <td>Nokia 500</td>\n",
       "    </tr>\n",
       "    <tr>\n",
       "      <th>3583</th>\n",
       "      <td>Germany</td>\n",
       "      <td>2012</td>\n",
       "      <td>Gadgets</td>\n",
       "      <td>4</td>\n",
       "      <td>Nokia Lumia 920</td>\n",
       "    </tr>\n",
       "    <tr>\n",
       "      <th>4524</th>\n",
       "      <td>South Africa</td>\n",
       "      <td>2012</td>\n",
       "      <td>Gadgets &amp; Phones</td>\n",
       "      <td>5</td>\n",
       "      <td>Nokia n9</td>\n",
       "    </tr>\n",
       "    <tr>\n",
       "      <th>4774</th>\n",
       "      <td>Uganda</td>\n",
       "      <td>2012</td>\n",
       "      <td>Gadgets &amp; Phones</td>\n",
       "      <td>5</td>\n",
       "      <td>Nokia Asha 303</td>\n",
       "    </tr>\n",
       "    <tr>\n",
       "      <th>5261</th>\n",
       "      <td>Argentina</td>\n",
       "      <td>2013</td>\n",
       "      <td>Tecnología</td>\n",
       "      <td>2</td>\n",
       "      <td>Nokia Asha 311</td>\n",
       "    </tr>\n",
       "    <tr>\n",
       "      <th>5262</th>\n",
       "      <td>Argentina</td>\n",
       "      <td>2013</td>\n",
       "      <td>Tecnología</td>\n",
       "      <td>3</td>\n",
       "      <td>Nokia Lumia 620</td>\n",
       "    </tr>\n",
       "    <tr>\n",
       "      <th>7996</th>\n",
       "      <td>Vietnam</td>\n",
       "      <td>2013</td>\n",
       "      <td>Công nghệ</td>\n",
       "      <td>2</td>\n",
       "      <td>Nokia Lumia 520</td>\n",
       "    </tr>\n",
       "    <tr>\n",
       "      <th>8821</th>\n",
       "      <td>Ghana</td>\n",
       "      <td>2014</td>\n",
       "      <td>Mobile Phones</td>\n",
       "      <td>2</td>\n",
       "      <td>Nokia XL</td>\n",
       "    </tr>\n",
       "    <tr>\n",
       "      <th>8823</th>\n",
       "      <td>Ghana</td>\n",
       "      <td>2014</td>\n",
       "      <td>Mobile Phones</td>\n",
       "      <td>4</td>\n",
       "      <td>Nokia X</td>\n",
       "    </tr>\n",
       "    <tr>\n",
       "      <th>8961</th>\n",
       "      <td>Indonesia</td>\n",
       "      <td>2014</td>\n",
       "      <td>Gadget</td>\n",
       "      <td>2</td>\n",
       "      <td>Nokia X</td>\n",
       "    </tr>\n",
       "    <tr>\n",
       "      <th>9351</th>\n",
       "      <td>Nigeria</td>\n",
       "      <td>2014</td>\n",
       "      <td>Mobile Phones</td>\n",
       "      <td>2</td>\n",
       "      <td>Nokia X</td>\n",
       "    </tr>\n",
       "    <tr>\n",
       "      <th>9999</th>\n",
       "      <td>Thailand</td>\n",
       "      <td>2014</td>\n",
       "      <td>แก็ดเจ็ตและเทคโนโลยี</td>\n",
       "      <td>5</td>\n",
       "      <td>Nokia X</td>\n",
       "    </tr>\n",
       "    <tr>\n",
       "      <th>10367</th>\n",
       "      <td>Vietnam</td>\n",
       "      <td>2014</td>\n",
       "      <td>Điện thoại</td>\n",
       "      <td>3</td>\n",
       "      <td>Nokia X</td>\n",
       "    </tr>\n",
       "    <tr>\n",
       "      <th>17103</th>\n",
       "      <td>Hong Kong</td>\n",
       "      <td>2017</td>\n",
       "      <td>熱爆 Gadget</td>\n",
       "      <td>4</td>\n",
       "      <td>Nokia 8</td>\n",
       "    </tr>\n",
       "    <tr>\n",
       "      <th>17104</th>\n",
       "      <td>Hong Kong</td>\n",
       "      <td>2017</td>\n",
       "      <td>熱爆 Gadget</td>\n",
       "      <td>5</td>\n",
       "      <td>Nokia 6</td>\n",
       "    </tr>\n",
       "  </tbody>\n",
       "</table>\n",
       "</div>"
      ],
      "text/plain": [
       "           location  year                                        category  \\\n",
       "29           Global  2001                                    New Products   \n",
       "1553         Global  2009  Looking to Buy Online: Fastest Rising Searches   \n",
       "1957         Global  2010                            Consumer Electronics   \n",
       "1959         Global  2010                            Consumer Electronics   \n",
       "3031      Argentina  2012                                        Shopping   \n",
       "3032      Argentina  2012                                        Shopping   \n",
       "3489        Finland  2012                                  Mobile Devices   \n",
       "3583        Germany  2012                                         Gadgets   \n",
       "4524   South Africa  2012                                Gadgets & Phones   \n",
       "4774         Uganda  2012                                Gadgets & Phones   \n",
       "5261      Argentina  2013                                      Tecnología   \n",
       "5262      Argentina  2013                                      Tecnología   \n",
       "7996        Vietnam  2013                                      Công nghệ    \n",
       "8821          Ghana  2014                                   Mobile Phones   \n",
       "8823          Ghana  2014                                   Mobile Phones   \n",
       "8961      Indonesia  2014                                          Gadget   \n",
       "9351        Nigeria  2014                                   Mobile Phones   \n",
       "9999       Thailand  2014                            แก็ดเจ็ตและเทคโนโลยี   \n",
       "10367       Vietnam  2014                                      Điện thoại   \n",
       "17103     Hong Kong  2017                                       熱爆 Gadget   \n",
       "17104     Hong Kong  2017                                       熱爆 Gadget   \n",
       "\n",
       "       rank            query  \n",
       "29        5       Nokia 5510  \n",
       "1553      4        Nokia N97  \n",
       "1957      3       Nokia 5530  \n",
       "1959      5       Nokia N900  \n",
       "3031      2        Nokia 500  \n",
       "3032      3  Nokia lumia 900  \n",
       "3489      5        Nokia 500  \n",
       "3583      4  Nokia Lumia 920  \n",
       "4524      5         Nokia n9  \n",
       "4774      5   Nokia Asha 303  \n",
       "5261      2   Nokia Asha 311  \n",
       "5262      3  Nokia Lumia 620  \n",
       "7996      2  Nokia Lumia 520  \n",
       "8821      2         Nokia XL  \n",
       "8823      4          Nokia X  \n",
       "8961      2          Nokia X  \n",
       "9351      2          Nokia X  \n",
       "9999      5          Nokia X  \n",
       "10367     3          Nokia X  \n",
       "17103     4          Nokia 8  \n",
       "17104     5          Nokia 6  "
      ]
     },
     "execution_count": 40,
     "metadata": {},
     "output_type": "execute_result"
    }
   ],
   "source": [
    "df[df['query'].str.contains(r'\\b..[k][i][a]\\s.', regex=True)]"
   ]
  },
  {
   "cell_type": "markdown",
   "id": "actual-dublin",
   "metadata": {},
   "source": [
    "### 6.6. Метод extractall()"
   ]
  },
  {
   "cell_type": "markdown",
   "id": "desperate-rabbit",
   "metadata": {},
   "source": [
    "Метод `extraclall()` вернет столбец с поисковым шаблоном. Результаты, не имеющие совпадений, отображаться не будут:"
   ]
  },
  {
   "cell_type": "code",
   "execution_count": 24,
   "id": "supported-ranking",
   "metadata": {},
   "outputs": [
    {
     "data": {
      "text/html": [
       "<div>\n",
       "<style scoped>\n",
       "    .dataframe tbody tr th:only-of-type {\n",
       "        vertical-align: middle;\n",
       "    }\n",
       "\n",
       "    .dataframe tbody tr th {\n",
       "        vertical-align: top;\n",
       "    }\n",
       "\n",
       "    .dataframe thead th {\n",
       "        text-align: right;\n",
       "    }\n",
       "</style>\n",
       "<table border=\"1\" class=\"dataframe\">\n",
       "  <thead>\n",
       "    <tr style=\"text-align: right;\">\n",
       "      <th></th>\n",
       "      <th></th>\n",
       "      <th>0</th>\n",
       "    </tr>\n",
       "    <tr>\n",
       "      <th></th>\n",
       "      <th>match</th>\n",
       "      <th></th>\n",
       "    </tr>\n",
       "  </thead>\n",
       "  <tbody>\n",
       "    <tr>\n",
       "      <th>29</th>\n",
       "      <th>0</th>\n",
       "      <td>Nokia 5</td>\n",
       "    </tr>\n",
       "    <tr>\n",
       "      <th>1553</th>\n",
       "      <th>0</th>\n",
       "      <td>Nokia N</td>\n",
       "    </tr>\n",
       "    <tr>\n",
       "      <th>1957</th>\n",
       "      <th>0</th>\n",
       "      <td>Nokia 5</td>\n",
       "    </tr>\n",
       "    <tr>\n",
       "      <th>1959</th>\n",
       "      <th>0</th>\n",
       "      <td>Nokia N</td>\n",
       "    </tr>\n",
       "    <tr>\n",
       "      <th>3031</th>\n",
       "      <th>0</th>\n",
       "      <td>Nokia 5</td>\n",
       "    </tr>\n",
       "    <tr>\n",
       "      <th>3032</th>\n",
       "      <th>0</th>\n",
       "      <td>Nokia l</td>\n",
       "    </tr>\n",
       "    <tr>\n",
       "      <th>3489</th>\n",
       "      <th>0</th>\n",
       "      <td>Nokia 5</td>\n",
       "    </tr>\n",
       "    <tr>\n",
       "      <th>3583</th>\n",
       "      <th>0</th>\n",
       "      <td>Nokia L</td>\n",
       "    </tr>\n",
       "    <tr>\n",
       "      <th>4524</th>\n",
       "      <th>0</th>\n",
       "      <td>Nokia n</td>\n",
       "    </tr>\n",
       "    <tr>\n",
       "      <th>4774</th>\n",
       "      <th>0</th>\n",
       "      <td>Nokia A</td>\n",
       "    </tr>\n",
       "    <tr>\n",
       "      <th>5261</th>\n",
       "      <th>0</th>\n",
       "      <td>Nokia A</td>\n",
       "    </tr>\n",
       "    <tr>\n",
       "      <th>5262</th>\n",
       "      <th>0</th>\n",
       "      <td>Nokia L</td>\n",
       "    </tr>\n",
       "    <tr>\n",
       "      <th>7996</th>\n",
       "      <th>0</th>\n",
       "      <td>Nokia L</td>\n",
       "    </tr>\n",
       "    <tr>\n",
       "      <th>8821</th>\n",
       "      <th>0</th>\n",
       "      <td>Nokia X</td>\n",
       "    </tr>\n",
       "    <tr>\n",
       "      <th>8823</th>\n",
       "      <th>0</th>\n",
       "      <td>Nokia X</td>\n",
       "    </tr>\n",
       "    <tr>\n",
       "      <th>8961</th>\n",
       "      <th>0</th>\n",
       "      <td>Nokia X</td>\n",
       "    </tr>\n",
       "    <tr>\n",
       "      <th>9351</th>\n",
       "      <th>0</th>\n",
       "      <td>Nokia X</td>\n",
       "    </tr>\n",
       "    <tr>\n",
       "      <th>9999</th>\n",
       "      <th>0</th>\n",
       "      <td>Nokia X</td>\n",
       "    </tr>\n",
       "    <tr>\n",
       "      <th>10367</th>\n",
       "      <th>0</th>\n",
       "      <td>Nokia X</td>\n",
       "    </tr>\n",
       "    <tr>\n",
       "      <th>17103</th>\n",
       "      <th>0</th>\n",
       "      <td>Nokia 8</td>\n",
       "    </tr>\n",
       "    <tr>\n",
       "      <th>17104</th>\n",
       "      <th>0</th>\n",
       "      <td>Nokia 6</td>\n",
       "    </tr>\n",
       "  </tbody>\n",
       "</table>\n",
       "</div>"
      ],
      "text/plain": [
       "                   0\n",
       "      match         \n",
       "29    0      Nokia 5\n",
       "1553  0      Nokia N\n",
       "1957  0      Nokia 5\n",
       "1959  0      Nokia N\n",
       "3031  0      Nokia 5\n",
       "3032  0      Nokia l\n",
       "3489  0      Nokia 5\n",
       "3583  0      Nokia L\n",
       "4524  0      Nokia n\n",
       "4774  0      Nokia A\n",
       "5261  0      Nokia A\n",
       "5262  0      Nokia L\n",
       "7996  0      Nokia L\n",
       "8821  0      Nokia X\n",
       "8823  0      Nokia X\n",
       "8961  0      Nokia X\n",
       "9351  0      Nokia X\n",
       "9999  0      Nokia X\n",
       "10367 0      Nokia X\n",
       "17103 0      Nokia 8\n",
       "17104 0      Nokia 6"
      ]
     },
     "execution_count": 24,
     "metadata": {},
     "output_type": "execute_result"
    }
   ],
   "source": [
    "df = pd.read_csv('https://raw.githubusercontent.com/tttdddnet/Python-Data-Journalism/main/part1/trends.csv')\n",
    "df['query'].str.extractall(r\"(\\b..[k][i][a]\\s.)\")"
   ]
  },
  {
   "cell_type": "markdown",
   "id": "excited-cooper",
   "metadata": {},
   "source": [
    "Присвоить название столбцу с результатами можно через следующую запись: `?P<название столбца>`. "
   ]
  },
  {
   "cell_type": "code",
   "execution_count": null,
   "id": "solved-sheffield",
   "metadata": {
    "scrolled": false
   },
   "outputs": [],
   "source": [
    "df['query'].str.extractall(r'(?P<model>\\b..[k][i][a]\\s.)')"
   ]
  },
  {
   "cell_type": "markdown",
   "id": "dramatic-short",
   "metadata": {},
   "source": [
    "Несколько фильтров в одном запросе:"
   ]
  },
  {
   "cell_type": "code",
   "execution_count": null,
   "id": "forward-length",
   "metadata": {},
   "outputs": [],
   "source": [
    "df['query'].str.extractall(r'(?P<model>\\b..[k][i][a]\\s.)(?P<number>[5])')"
   ]
  },
  {
   "cell_type": "markdown",
   "id": "affiliated-wildlife",
   "metadata": {},
   "source": [
    "### 6.7. Метод isin()"
   ]
  },
  {
   "cell_type": "markdown",
   "id": "legitimate-employer",
   "metadata": {},
   "source": [
    "Узнаем, содержатся ли искомые значения в столбце методом `isin()` :"
   ]
  },
  {
   "cell_type": "code",
   "execution_count": null,
   "id": "official-congress",
   "metadata": {},
   "outputs": [],
   "source": [
    "df = pd.read_csv('https://raw.githubusercontent.com/tttdddnet/Python-Data-Journalism/main/part1/trends.csv')\n",
    "df['query'].isin(['Agar.io', 'Paris'])"
   ]
  },
  {
   "cell_type": "code",
   "execution_count": null,
   "id": "alive-crisis",
   "metadata": {
    "scrolled": false
   },
   "outputs": [],
   "source": [
    "df.loc[df['query'].isin(['Agar.io', 'Paris'])]"
   ]
  },
  {
   "cell_type": "markdown",
   "id": "intermediate-consciousness",
   "metadata": {},
   "source": [
    "## 7. Фильтрация по языку"
   ]
  },
  {
   "cell_type": "markdown",
   "id": "stretch-business",
   "metadata": {},
   "source": [
    "### 7.1. Декодер"
   ]
  },
  {
   "cell_type": "markdown",
   "id": "motivated-activation",
   "metadata": {},
   "source": [
    "В датасете могут оказаться кракозябры: `ЧЎЧЁЧЧ™Чќ`. Для борьбы с ними есть отличная библиотека `ftfy` (англ. fixes text for you – исправляет текст для тебя), которая также имеет [веб-реализацию](https://ftfy.now.sh/). Установим `ftfty`:"
   ]
  },
  {
   "cell_type": "code",
   "execution_count": null,
   "id": "possible-abuse",
   "metadata": {},
   "outputs": [],
   "source": [
    "!pip install ftfy"
   ]
  },
  {
   "cell_type": "code",
   "execution_count": null,
   "id": "found-cover",
   "metadata": {},
   "outputs": [],
   "source": [
    "from ftfy import fix_encoding\n",
    "df = pd.read_csv('https://raw.githubusercontent.com/tttdddnet/Python-Data-Journalism/main/part1/decode.csv')\n",
    "df['decode'] = df['encode'].apply(fix_encoding)\n",
    "df"
   ]
  },
  {
   "cell_type": "markdown",
   "id": "champion-mainland",
   "metadata": {},
   "source": [
    "Здесь:  \n",
    "`apply(fix_encoding)` – метод `apply()` применяет к каждому элементу столбца `encode` функцию `fix_encoding`."
   ]
  },
  {
   "cell_type": "markdown",
   "id": "collectible-frontier",
   "metadata": {},
   "source": [
    "## 7.2. Определение языка"
   ]
  },
  {
   "cell_type": "markdown",
   "id": "raising-associate",
   "metadata": {},
   "source": [
    "Библиотека `google_trans` оказалась с багами, поэтому воспользуемся ее работоспособным форком – `google_trans_new`. Установим `google_trans_new`:"
   ]
  },
  {
   "cell_type": "code",
   "execution_count": null,
   "id": "changed-straight",
   "metadata": {},
   "outputs": [],
   "source": [
    "!pip install google_trans_new\n",
    "!pip install requests"
   ]
  },
  {
   "cell_type": "code",
   "execution_count": null,
   "id": "buried-asian",
   "metadata": {},
   "outputs": [],
   "source": [
    "from google_trans_new import google_translator\n",
    "import requests\n",
    "\n",
    "df = pd.read_csv('https://raw.githubusercontent.com/tttdddnet/Python-Data-Journalism/main/part1/trends_lang.csv')\n",
    "df['category']= df['category'].apply(fix_encoding)\n",
    "\n",
    "detector = google_translator()  \n",
    "\n",
    "for index, row in df['category'].items():\n",
    "    try:\n",
    "        df.loc[index, 'category language'] = detector.detect(row)[1]\n",
    "        print(detector.detect(row)[1])\n",
    "    except:\n",
    "        df.loc[index, 'category language'] = 'Error'\n",
    "        print('Error')"
   ]
  },
  {
   "cell_type": "markdown",
   "id": "greater-pottery",
   "metadata": {},
   "source": [
    "Здесь:  \n",
    "`for index, row ...` – цикл по индексу и значению в столбце `category`.  \n",
    "\n",
    "`try .... detector.detect(row)[1]` – определение языка. `0` – сокращенный вариант `en`, `1` – полный вариант `english`.  \n",
    "\n",
    "`except ... 'Error'` – если по какой-то причине нам не удастся определить язык, в ячейку запишется значение `Error`."
   ]
  },
  {
   "cell_type": "code",
   "execution_count": null,
   "id": "negative-poetry",
   "metadata": {},
   "outputs": [],
   "source": [
    "df"
   ]
  },
  {
   "cell_type": "markdown",
   "id": "creative-complex",
   "metadata": {},
   "source": [
    "Получим строки, содержащие язык `russian`:"
   ]
  },
  {
   "cell_type": "code",
   "execution_count": null,
   "id": "surgical-cancer",
   "metadata": {},
   "outputs": [],
   "source": [
    "df.loc[df['category language'] == \"russian\"]"
   ]
  },
  {
   "cell_type": "markdown",
   "id": "about-bookmark",
   "metadata": {},
   "source": [
    "### 8. Статистические данные"
   ]
  },
  {
   "cell_type": "markdown",
   "id": "72f6c7d7",
   "metadata": {},
   "source": [
    "### 8.1. Метод desribe()"
   ]
  },
  {
   "cell_type": "markdown",
   "id": "everyday-corporation",
   "metadata": {},
   "source": [
    "Для просмотра статистической сводки столбцов, содержащих численные значения, введем `df.describe()`."
   ]
  },
  {
   "cell_type": "code",
   "execution_count": null,
   "id": "incorporate-wayne",
   "metadata": {},
   "outputs": [],
   "source": [
    "df = pd.read_csv('https://raw.githubusercontent.com/tttdddnet/Python-Data-Journalism/main/part1/trends.csv')\n",
    "df.describe()"
   ]
  },
  {
   "cell_type": "markdown",
   "id": "grateful-doctor",
   "metadata": {},
   "source": [
    "Здесь:  \n",
    "`count` – считает количество записей в столбце без значения `NaN`. Отдельно можно вызвать через `df.count()`.  \n",
    "\n",
    "`mean` – среднее значение `df.mean()`.  \n",
    "\n",
    "`std` – стандартное отклонение `df.std()`.  \n",
    "\n",
    "`min` – минимальное число в столбце `df.min()`.  \n",
    "\n",
    "`25%`\t– 25-й процентиль.  \n",
    "`50%`\t– 50-й процентиль.  \n",
    "`75%`\t– 75-й процентиль.  \n",
    "\n",
    "`max` – максимальное число в столбце `df.max()`."
   ]
  },
  {
   "cell_type": "markdown",
   "id": "preliminary-broadcasting",
   "metadata": {},
   "source": [
    "## 8.2. Подсчет повторяющихся значений"
   ]
  },
  {
   "cell_type": "markdown",
   "id": "instrumental-cleanup",
   "metadata": {},
   "source": [
    "Подсчитаем количество элементов в столбце `query` методом `count()`:"
   ]
  },
  {
   "cell_type": "code",
   "execution_count": null,
   "id": "hispanic-county",
   "metadata": {},
   "outputs": [],
   "source": [
    "df = pd.read_csv('https://raw.githubusercontent.com/tttdddnet/Python-Data-Journalism/main/part1/trends.csv')\n",
    "df['query'].count()"
   ]
  },
  {
   "cell_type": "markdown",
   "id": "thousand-packaging",
   "metadata": {},
   "source": [
    "С помощью метода `value_counts` узнаем сколько раз значения повторяются в столбце:"
   ]
  },
  {
   "cell_type": "code",
   "execution_count": null,
   "id": "cosmetic-consent",
   "metadata": {},
   "outputs": [],
   "source": [
    "df['query'].value_counts()"
   ]
  },
  {
   "cell_type": "markdown",
   "id": "connected-technician",
   "metadata": {},
   "source": [
    "По умолчанию из результата исключаются NaN-значения. Чтобы отобразить их, поставим параметру `dropna` значение `False`."
   ]
  },
  {
   "cell_type": "code",
   "execution_count": null,
   "id": "comprehensive-benchmark",
   "metadata": {},
   "outputs": [],
   "source": [
    "df['query'].value_counts(dropna=False)"
   ]
  },
  {
   "cell_type": "markdown",
   "id": "corresponding-montana",
   "metadata": {},
   "source": [
    "Создадим столбец `query_count`, в который запишем количество упоминаний элемента:"
   ]
  },
  {
   "cell_type": "code",
   "execution_count": null,
   "id": "phantom-homeless",
   "metadata": {
    "scrolled": true
   },
   "outputs": [],
   "source": [
    "df['query_count'] = df.groupby('query')['query'].transform('count')\n",
    "df.sample(5)"
   ]
  },
  {
   "cell_type": "markdown",
   "id": "neutral-syndication",
   "metadata": {},
   "source": [
    "Здесь:  \n",
    "`groupby()` – используется для разделения данных на группы по критериям. Подробнее [здесь](https://pandas.pydata.org/pandas-docs/stable/user_guide/groupby.html).  \n",
    "\n",
    "`transform('count')` – считает сколько раз повторяется значение в столбце `query`."
   ]
  },
  {
   "cell_type": "markdown",
   "id": "academic-introduction",
   "metadata": {},
   "source": [
    "Выведем уникальные значения в столбце `location` через метод `unique()`:"
   ]
  },
  {
   "cell_type": "code",
   "execution_count": null,
   "id": "particular-posting",
   "metadata": {},
   "outputs": [],
   "source": [
    "df['location'].unique()"
   ]
  },
  {
   "cell_type": "markdown",
   "id": "affecting-beatles",
   "metadata": {},
   "source": [
    "### 9. Сохранение датафрейма"
   ]
  },
  {
   "cell_type": "markdown",
   "id": "august-holder",
   "metadata": {},
   "source": [
    "Сохраним датафрейм в csv-файл:"
   ]
  },
  {
   "cell_type": "code",
   "execution_count": null,
   "id": "grateful-bacteria",
   "metadata": {},
   "outputs": [],
   "source": [
    "df = pd.read_csv('https://raw.githubusercontent.com/tttdddnet/Python-Data-Journalism/main/part1/trends.csv')\n",
    "save_file = df[['location', 'year', 'category', 'rank', 'query']]\n",
    "save_file.to_csv('trends_saved.csv', encoding='utf8')"
   ]
  },
  {
   "cell_type": "markdown",
   "id": "english-moldova",
   "metadata": {},
   "source": [
    "Здесь:  \n",
    "`save_file` – столбцы датафрейма.  \n",
    "`to_csv()` – сохранить датафрейм в файл формата `.csv`."
   ]
  },
  {
   "cell_type": "markdown",
   "id": "desirable-request",
   "metadata": {},
   "source": [
    "Откроем сохраненный файл:"
   ]
  },
  {
   "cell_type": "code",
   "execution_count": null,
   "id": "constant-donor",
   "metadata": {},
   "outputs": [],
   "source": [
    "df = pd.read_csv('https://raw.githubusercontent.com/tttdddnet/Python-Data-Journalism/main/part1/trends_saved.csv')\n",
    "df.head(3)"
   ]
  },
  {
   "cell_type": "markdown",
   "id": "broke-survivor",
   "metadata": {},
   "source": [
    "После сохранения файла у нас повявился столбец `Unnamed: 0`. Он нам не нужен, потому удалим его:"
   ]
  },
  {
   "cell_type": "code",
   "execution_count": null,
   "id": "boring-kingdom",
   "metadata": {},
   "outputs": [],
   "source": [
    "df = df.drop('Unnamed: 0', 1)\n",
    "df.head(3)"
   ]
  }
 ],
 "metadata": {
  "kernelspec": {
   "display_name": "Python 3",
   "language": "python",
   "name": "python3"
  },
  "language_info": {
   "codemirror_mode": {
    "name": "ipython",
    "version": 3
   },
   "file_extension": ".py",
   "mimetype": "text/x-python",
   "name": "python",
   "nbconvert_exporter": "python",
   "pygments_lexer": "ipython3",
   "version": "3.9.2"
  }
 },
 "nbformat": 4,
 "nbformat_minor": 5
}
